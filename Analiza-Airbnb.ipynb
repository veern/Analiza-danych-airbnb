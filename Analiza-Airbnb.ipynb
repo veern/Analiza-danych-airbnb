{
 "cells": [
  {
   "cell_type": "markdown",
   "id": "affecded",
   "metadata": {},
   "source": [
    "# Projekt - Analiza cen wynajmu z serwisu AirBnb w Nowym Jorku w 2019r."
   ]
  },
  {
   "cell_type": "markdown",
   "id": "7d3cf252",
   "metadata": {},
   "source": [
    "Link do zbioru danych:\n",
    "\n",
    "https://www.kaggle.com/datasets/dgomonov/new-york-city-airbnb-open-data?resource=down\n",
    "\n",
    "Skład Grupy\n",
    "\n",
    "- Paweł Wira 245725\n",
    "- Krystian Gumuliński 250625\n",
    "- Konrad Woźniak 232576"
   ]
  },
  {
   "cell_type": "markdown",
   "id": "14079708",
   "metadata": {},
   "source": [
    "## Czym jest AirBnb?"
   ]
  },
  {
   "cell_type": "markdown",
   "id": "b0d9df19",
   "metadata": {},
   "source": [
    "AirBnb to serwis internetowy mający swoją siedzibę w San Francisco, w Kalifornii, który umożliwia wynajem lokali od osób prywatnych. Platforma powstała w 2008 roku przez Braiana Chesky'ego, Nathana Blecharczyka i Joe Gebbia. Portal Airbnb zrzesza miliony osób, chcące wynająć swoje domy. Aktualnie serwis obejmuje ponad 81000 miast z 191 różnych krajów na świecie. AirBnb jest skrótem od AirBedandBreakfast.com.\n",
    "\n",
    "Polityka przedsiębiorstwa jest uważana przez niektóre grupy za dość kontrowersyjną. Firma była krytykowana przez osoby najmujące za umożliwienie wynajmującym użytkownikom podwyżek czynszów za domy. Konkuruje też bezpośrednio z branżą hotelarską, która zarzuca firmie brak regulacji prawnych. Część hoteli jednak uległa i wystawiła swoje ogłoszenia na platformie, która pobiera opłaty za wystawione oferty mieszkaniowe."
   ]
  },
  {
   "cell_type": "markdown",
   "id": "118ea596",
   "metadata": {},
   "source": [
    "## Cel projektu"
   ]
  },
  {
   "attachments": {},
   "cell_type": "markdown",
   "id": "47e6ce9b",
   "metadata": {},
   "source": [
    "Celem projektu jest analiza zbioru danych, w którym znajdują się dane ofert z serwisu Airbnb dla miasta Nowy Jork z roku 2019. Analiza dotyczy zjawisk takich jak korelacja między cenami, standardem mieszkaniowym czy lokalizacją w odległości od najatrakcyjniejszych miejsc miasta. Dodatkowo dotyczy także zależności pomiędzy osobami wynajmującymi dużą liczbę mieszkań a osobami prywatnymi. Po wykonanej analizie zbioru związanego z AirBnb chcielibyśmy, dokonać pobrania danych związanych z przestępczością w Nowym Jorku i dokonać sprawdzenia czy ów problem koreluje z parametrami ogłoszeń."
   ]
  },
  {
   "cell_type": "markdown",
   "id": "4045bd28",
   "metadata": {},
   "source": [
    "## Zbiór danych użyty w projekcie"
   ]
  },
  {
   "attachments": {},
   "cell_type": "markdown",
   "id": "8b221256",
   "metadata": {},
   "source": [
    "Zbiór danych potrzebny do realizacji projektu został pobrany z serwisu kaggle.com i został zaczerpnięty ze strony insideairbnb.com. \n",
    "\n",
    "Dane zawierają informację między innymi o lokalizacji i dzielnicach ogłoszeń, o cenach, rodzajach mieszkań czy też liczby dostępnych dni w roku. Zbiór danych może pomóc wskazać cechy osób wynajmujących i obszarów wynajmu oraz jest stworzony z myślą o przyszłych prognozach obrazujących preferencje wynajmu klientów w stosunku do poszczególnych okręgów."
   ]
  },
  {
   "cell_type": "markdown",
   "id": "c79d6359",
   "metadata": {},
   "source": [
    "## Podział Administacyjny Nowy Jork"
   ]
  },
  {
   "cell_type": "markdown",
   "id": "319f7f14",
   "metadata": {},
   "source": [
    "Nowy Jork dzieli się na pięć okręgów, określanych mianem boroughs. Każdy z nich pokrywa się z odpowiednim hrabstwem stanu Nowy Jork. Na terenie pięciu okręgów wyróżnić można setki mniejszych dzielnic, z których wiele posiada własną historię i specyfikę. Jeśli każde z boroughs byłoby niezależnym miastem, cztery z nich (Brooklyn, Queens, Manhattan i Bronx) należałyby do najludniejszych miast w Stanach Zjednoczonych.\n",
    "\n",
    "- Manhattan (hrabstwo Nowy Jork; populacja w 2019 roku: 1 628 706) – najgęściej zaludniona dzielnica; na jej terenie znajduje się Central Park, World Trade Center i większość nowojorskich wieżowców, stanowi finansowe centrum miasta i siedzibę wielu korporacji, kwatery głównej ONZ, kilku uniwersytetów i licznych kulturowych atrakcji.\n",
    "\n",
    "- Bronx (hrabstwo Bronx; populacja w 2019 roku: 1 418 207) – najdalej na północ wysunięty okręg Nowego Jorku, siedziba Yankee Stadium (domowego stadionu drużyny New York Yankees) i największej spółdzielni mieszkaniowej w Stanach Zjednoczonych – Co-op City.\n",
    "\n",
    "- Brooklyn (hrabstwo Kings; populacja w 2019 roku: 2 559 903) – położony w zachodniej części Long Island, najbardziej zaludniony ze wszystkich boroughs; niezależne miasto do 1898 roku. Brooklyn znany jest ze swojej kulturowej, społecznej i etnicznej różnorodności, niezależnej sceny artystycznej, specyfiki poszczególnych dzielnic oraz wyjątkowego zróżnicowania architektonicznego.\n",
    "\n",
    "- Queens (hrabstwo Queens; populacja w 2019 roku: 2 253 858) – terytorialnie największy borough i najbardziej zróżnicowane etnicznie hrabstwo w Stanach Zjednoczonych. W odróżnieniu jednak od Nowego Jorku, Brooklynu i Bronxu, Queens nie ma statusu odrębnego City. Powstałe z kilkunastu małych miasteczek i wiosek założonych przez Holendrów, obecnie Queens stanowi przede wszystkim obszar mieszkalny dla przedstawicieli klasy średniej.\n",
    "\n",
    "- Staten Island (hrabstwo Richmond; populacja w 2019 roku: 476 143) – ma najbardziej podmiejski charakter spośród wszystkich pięciu dzielnic Nowego Jorku. Staten Island połączona jest z Brooklynem przez Verrazano-Narrows Bridge, zaś z Manhattanem przez darmowy prom Staten Island Ferry. Staten Island Ferry jest jedną z najpopularniejszych atrakcji turystycznych w Nowym Jorku, jako że zapewnia widok na Statuę Wolności, Wyspę Ellis i dolny Manhattan."
   ]
  },
  {
   "cell_type": "markdown",
   "id": "4069608f",
   "metadata": {},
   "source": [
    "![](img/picture.jpg)"
   ]
  },
  {
   "cell_type": "markdown",
   "id": "4fd19a89",
   "metadata": {},
   "source": [
    "# Implementacja"
   ]
  },
  {
   "cell_type": "markdown",
   "id": "aee4ed9b",
   "metadata": {},
   "source": [
    "## Import niezbędnych bilbiotek"
   ]
  },
  {
   "attachments": {},
   "cell_type": "markdown",
   "id": "2805724c",
   "metadata": {},
   "source": [
    "Podczas implementacji należy zaimportować odpowiednie biblioteki umożliwiające dalszą pracę przy analizy danych. Zaimportowane zostały podstawowe biblioteki języka Python takie jak np. biblioteka umożliwiająca obliczenia na macierzach, biblioteka pomagająca analizie danych czy biblioteka wizualizująca wyniki na wykresach."
   ]
  },
  {
   "cell_type": "code",
   "execution_count": null,
   "id": "9efe823d",
   "metadata": {},
   "outputs": [],
   "source": [
    "#Import niezbędnych bibliotek\n",
    "import numpy as np\n",
    "import pandas as pd \n",
    "import seaborn as sns\n",
    "import matplotlib.pyplot as plt\n",
    "import folium\n",
    "import folium.plugins\n",
    "import warnings\n",
    "from sklearn import preprocessing, model_selection\n",
    "from sklearn.neighbors import KNeighborsClassifier\n",
    "\n",
    "warnings.filterwarnings('ignore')"
   ]
  },
  {
   "cell_type": "markdown",
   "id": "3ebfebc6",
   "metadata": {},
   "source": [
    "## Wczytywanie danych"
   ]
  },
  {
   "attachments": {},
   "cell_type": "markdown",
   "id": "f26f615f",
   "metadata": {},
   "source": [
    "Pierwszym krokiem realizacji projektu analizy wynajmu mieszkań na podstawie serwisu AirBnb jest zrozumienie danych i wartości występujących w poszczególnych komórkach. Poniżej można zaobserwować rodzaj informacji i jej poszczególny typ."
   ]
  },
  {
   "cell_type": "code",
   "execution_count": null,
   "id": "c87c3b61",
   "metadata": {},
   "outputs": [],
   "source": [
    "df = pd.read_csv(\"data/AB_NYC_2019.csv\")\n",
    "df.dtypes"
   ]
  },
  {
   "attachments": {},
   "cell_type": "markdown",
   "id": "17f2bdb0",
   "metadata": {},
   "source": [
    "Opis kolumn:\n",
    "- name - Nazwa obiektu \n",
    "- host_id - Numer identyfikacyjny wystawiającego ogłoszenie \n",
    "- neighbourhood_group - Nazwa okręgu w Nowym Jorku \n",
    "- neighbourhood - Nazwa dzielnic w danym okręgu w Nowym Jorku \n",
    "- latitude - Szerokość geograficzna longitude - Długość geograficzna\n",
    "- room_type - Typ wynajmowanego obiektu \n",
    "- price - Cena \n",
    "- minimum_nights - Minimalna liczba nocy dla danego obiektu, które są określone przez wynajmującego \n",
    "- number_of_reviews - Liczba recenzji danego obiektu \n",
    "- reviews_per_month - Liczba recenzji danego obiektu przez miesiąc\n",
    "- calculated_host_listing_count - Liczba wystawionych obiektów na wynajem przez tego użytkownika serwisu \n",
    "- availability_365 - Liczba dni w których dany obiekt jest dostępny do wynajęcia"
   ]
  },
  {
   "cell_type": "code",
   "execution_count": null,
   "id": "36cd29cc",
   "metadata": {},
   "outputs": [],
   "source": [
    "# Liczba wierszy\n",
    "len(df)"
   ]
  },
  {
   "cell_type": "markdown",
   "id": "9728674e",
   "metadata": {},
   "source": [
    "Zbiór danych składa się z 16 kolumn i 48895 wierszy, który zostanie wykorzystany do dalszej eksploracji."
   ]
  },
  {
   "cell_type": "code",
   "execution_count": null,
   "id": "709675cc",
   "metadata": {},
   "outputs": [],
   "source": [
    "# Wyświetlenie pierwszych 5 wierszy\n",
    "df[\"price_per_night\"] = df.apply(lambda row: int(row.price/row.minimum_nights), axis=1)\n",
    "df.head(5)"
   ]
  },
  {
   "cell_type": "code",
   "execution_count": null,
   "id": "52b1c52c",
   "metadata": {},
   "outputs": [],
   "source": [
    "n_df = df[['neighbourhood_group', 'price_per_night', 'room_type']]\n",
    "n_df_Brooklyn = n_df[n_df['neighbourhood_group'] == 'Brooklyn'].reset_index(drop=True)\n",
    "n_df_Manhattan = n_df[n_df['neighbourhood_group'] == 'Manhattan'].reset_index(drop=True) \n",
    "n_df_Queens = n_df[n_df['neighbourhood_group'] == 'Queens'].reset_index(drop=True) \n",
    "n_df_Staten_Island = n_df[n_df['neighbourhood_group'] == 'Staten Island'].reset_index(drop=True) \n",
    "n_df_Bronx = n_df[n_df['neighbourhood_group'] == 'Bronx'].reset_index(drop=True) "
   ]
  },
  {
   "cell_type": "code",
   "execution_count": null,
   "id": "ccd93397",
   "metadata": {},
   "outputs": [],
   "source": [
    "#wszystkie ofarty dzielnic w danym okręgu\n",
    "d_df = df[['neighbourhood_group' ,'neighbourhood', 'price_per_night' , 'room_type']]\n",
    "d_df_Brooklyn = d_df[d_df['neighbourhood_group'] == 'Brooklyn'].reset_index(drop=True) \n",
    "d_df_Manhattan = d_df[d_df['neighbourhood_group'] == 'Manhattan'].reset_index(drop=True)\n",
    "d_df_Queens = d_df[d_df['neighbourhood_group'] == 'Queens'].reset_index(drop=True)\n",
    "d_df_Staten_Island = d_df[d_df['neighbourhood_group'] == 'Staten Island'].reset_index(drop=True)\n",
    "d_df_Bronx = d_df[d_df['neighbourhood_group'] == 'Bronx'].reset_index(drop=True)\n",
    "\n",
    "#nazwy wszystkich dzielnic w okręgu\n",
    "dd_df_Brooklyn = d_df_Brooklyn['neighbourhood'].drop_duplicates()\n",
    "dd_df_Manhattan = d_df_Manhattan['neighbourhood'].drop_duplicates()\n",
    "dd_df_Queens = d_df_Queens['neighbourhood'].drop_duplicates()\n",
    "dd_df_Staten_Island = d_df_Staten_Island['neighbourhood'].drop_duplicates()\n",
    "dd_df_Bronx = d_df_Bronx['neighbourhood'].drop_duplicates()\n"
   ]
  },
  {
   "cell_type": "markdown",
   "id": "7170eac3",
   "metadata": {},
   "source": [
    "# Transformacja i czyszczenie danych"
   ]
  },
  {
   "cell_type": "markdown",
   "id": "c01086ee",
   "metadata": {},
   "source": [
    "Proces transformacji i czyszczenia danych składa się z wszelkich operacji, które dostosują treść i format danych do naszych potrzeb. Dla naszego zbioru danych na samym wstępie dokonamy sprawdzenia, czy w zbiorze występują puste rubryki."
   ]
  },
  {
   "cell_type": "code",
   "execution_count": null,
   "id": "1018bac1",
   "metadata": {
    "scrolled": true
   },
   "outputs": [],
   "source": [
    "df.isnull().sum()"
   ]
  },
  {
   "cell_type": "markdown",
   "id": "b73077e0",
   "metadata": {},
   "source": [
    "Następnym krokiem jest sprawdzenie czy dany wiersz jest powielany w zbiorze"
   ]
  },
  {
   "cell_type": "code",
   "execution_count": null,
   "id": "23cee225",
   "metadata": {},
   "outputs": [],
   "source": [
    "df.duplicated().sum()"
   ]
  },
  {
   "cell_type": "markdown",
   "id": "9d09146f",
   "metadata": {},
   "source": [
    "Dokonujemy zastąpienia wartości null w kolumnie reviews_per_month liczbą 0, gdyż wartość null została zapisana w wyniku braku wyświetleń"
   ]
  },
  {
   "cell_type": "code",
   "execution_count": null,
   "id": "d456899a",
   "metadata": {},
   "outputs": [],
   "source": [
    "df.fillna({'reviews_per_month':0}, inplace=True)"
   ]
  },
  {
   "cell_type": "markdown",
   "id": "4273919c",
   "metadata": {},
   "source": [
    "Dla wierszy gdzie kolumna name nie ma wartości dajemu NONE"
   ]
  },
  {
   "cell_type": "code",
   "execution_count": null,
   "id": "5c66d6b8",
   "metadata": {},
   "outputs": [],
   "source": [
    "df.fillna({'name':'NONE'}, inplace=True)"
   ]
  },
  {
   "cell_type": "code",
   "execution_count": null,
   "id": "f4a80e93",
   "metadata": {},
   "outputs": [],
   "source": [
    "df['last_review'] = pd.to_datetime(df['last_review'])\n",
    "df.fillna({'last_review':np.datetime64('1990-01-01')}, inplace=True)"
   ]
  },
  {
   "cell_type": "markdown",
   "id": "cc01b93d",
   "metadata": {},
   "source": [
    "W zbiorze danych występują kolumny, które są nam zbędne w procesie analizy danych:\n",
    "\n",
    "Kolumny do usunięcia:\n",
    "\n",
    "- id - czyli unikalny numer dla danego ogłoszenia,\n",
    "- host_name - imię osoby wystawiającej, które jest równoważne z tabelą host_id\n",
    "- last_review - informacja, która nie będzie przydatna w procesie analizy"
   ]
  },
  {
   "cell_type": "code",
   "execution_count": null,
   "id": "9cde3921",
   "metadata": {},
   "outputs": [],
   "source": [
    "df.drop(['id','host_name'], axis=1, inplace=True)"
   ]
  },
  {
   "cell_type": "markdown",
   "id": "8dfe675c",
   "metadata": {},
   "source": [
    "Ostatnim krokiem jest ponowne sprawdzenie czy w zbiorze występują jeszcze puste rubryki, które mogą negatywnie wpływać na proces analizowania poszczególnych danych"
   ]
  },
  {
   "cell_type": "code",
   "execution_count": null,
   "id": "7c160a57",
   "metadata": {},
   "outputs": [],
   "source": [
    "df.isnull().sum()"
   ]
  },
  {
   "cell_type": "code",
   "execution_count": null,
   "id": "dcb12490",
   "metadata": {},
   "outputs": [],
   "source": [
    "df.dtypes"
   ]
  },
  {
   "cell_type": "markdown",
   "id": "4fae1c36",
   "metadata": {},
   "source": [
    "# Eksploracja i Wizualizacja danych"
   ]
  },
  {
   "cell_type": "markdown",
   "id": "bbccf092",
   "metadata": {},
   "source": [
    "Najpierw zamieniamy typy danych ze String na int poprzez wykorzystanie LabelEncoder"
   ]
  },
  {
   "cell_type": "code",
   "execution_count": null,
   "id": "8684d15a",
   "metadata": {},
   "outputs": [],
   "source": [
    "le = preprocessing.LabelEncoder()\n",
    "hrabstwo = le.fit_transform(df[\"neighbourhood_group\"])\n",
    "hrabstwo_mapping = dict(zip(le.classes_, le.transform(le.classes_)))\n",
    "hrabstwo_mapping_reversed = {v: k for k, v in hrabstwo_mapping.items()}\n",
    "print(hrabstwo_mapping)"
   ]
  },
  {
   "cell_type": "code",
   "execution_count": null,
   "id": "48a7357e",
   "metadata": {},
   "outputs": [],
   "source": [
    "dzielnica = le.fit_transform(list(df[\"neighbourhood\"]))\n",
    "dzielnica_mapping = dict(zip(le.classes_, le.transform(le.classes_)))\n",
    "dzielnica_mapping_reversed = {v: k for k, v in dzielnica_mapping.items()}\n",
    "\n",
    "df = df[df[\"price\"] >= 30]\n",
    "#print(dzielnica_mapping)"
   ]
  },
  {
   "cell_type": "code",
   "execution_count": null,
   "id": "91ba7643",
   "metadata": {},
   "outputs": [],
   "source": [
    "#typ_pokoju = le.fit_transform(list(df[\"room_type\"]))\n",
    "#typ_pokoju_mapping = dict(zip(le.classes_, le.transform(le.classes_)))\n",
    "#typ_pokoju_mapping_reversed = {v: k for k, v in typ_pokoju_mapping.items()}\n",
    "#print(typ_pokoju_mapping)"
   ]
  },
  {
   "cell_type": "markdown",
   "id": "43fdb894",
   "metadata": {},
   "source": [
    "Pierwszym krokiem badania naszego zbioru danych jest wyświetlenie macierzy korelacji, która umożliwia nam określenie w jakim stopniu poszczególne cechy są ze sobą powiązane"
   ]
  },
  {
   "cell_type": "code",
   "execution_count": null,
   "id": "9b9c693e",
   "metadata": {},
   "outputs": [],
   "source": [
    "df[\"neighbourhood\"] = df[\"neighbourhood\"].map(dzielnica_mapping)\n",
    "df[\"neighbourhood_group\"] = df[\"neighbourhood_group\"].map(hrabstwo_mapping)\n",
    "#df[\"room_type\"] = df[\"room_type\"].map(typ_pokoju_mapping)\n",
    "\n",
    "plt.figure(figsize=(10,10))\n",
    "ax = sns.heatmap(df.corr(),annot=True)"
   ]
  },
  {
   "attachments": {},
   "cell_type": "markdown",
   "id": "75449c8f",
   "metadata": {},
   "source": [
    "Z powyższe mapy cieplnej wnioskujemy, że poszczególne dane nie są ze sobą powiązane w dużym stopniu oprócz, możemy wyróżnić następującą korelacje:\n",
    "\n",
    "- reviews_per_month/number_of_reviews - wysoki współczynnik jest wynikiem skalowania drugiej wartości przez liczbę miesięcy w których ogłoszenie było aktywne"
   ]
  },
  {
   "cell_type": "code",
   "execution_count": null,
   "id": "98fc4814",
   "metadata": {},
   "outputs": [],
   "source": [
    "\n",
    "FILTER_PRICE_VALUE = 400\n",
    "sub_airbnb = df[df.price < FILTER_PRICE_VALUE]\n",
    "fig, ax = plt.subplots(figsize=(10, 10))\n",
    "cmap = plt.get_cmap('jet')\n",
    "c = sub_airbnb.price \n",
    "alpha = 0.5 \n",
    "label = \"airbnb\"\n",
    "price_heatmap = ax.scatter(sub_airbnb.longitude, sub_airbnb.latitude, label=label, c=c,\n",
    " cmap=cmap, alpha=0.4)\n",
    "plt.title(\"Mapa cieplna według ceny w USD\")\n",
    "plt.colorbar(price_heatmap)\n",
    "plt.grid(True)\n",
    "plt.show()\n"
   ]
  },
  {
   "attachments": {},
   "cell_type": "markdown",
   "id": "392aa5a4",
   "metadata": {},
   "source": [
    "Powyższa mapa cieplna obrazuje nam, że w okręgu Manhattan znajdują się najdroższe ogłoszenia, a w okręgu Staten Island jest ich najmniej"
   ]
  },
  {
   "cell_type": "code",
   "execution_count": null,
   "id": "d61c9483",
   "metadata": {},
   "outputs": [],
   "source": [
    "FILTER_PRICE_VALUE = 250\n",
    "sub_airbnb = df[df.price_per_night < FILTER_PRICE_VALUE]\n",
    "fig, ax = plt.subplots(figsize=(10, 10))\n",
    "cmap = plt.get_cmap('jet')\n",
    "c = sub_airbnb.price_per_night \n",
    "alpha = 0.5 \n",
    "label = \"airbnb\"\n",
    "price_heatmap = ax.scatter(sub_airbnb.longitude, sub_airbnb.latitude, label=label, c=c,\n",
    " cmap=cmap, alpha=0.4)\n",
    "plt.title(\"Mapa cieplna według ceny w USD\")\n",
    "plt.colorbar(price_heatmap)\n",
    "plt.grid(True)\n",
    "plt.show()"
   ]
  },
  {
   "attachments": {},
   "cell_type": "markdown",
   "id": "97728054",
   "metadata": {},
   "source": [
    "## Top 5 wynajmujących pod względem liczby ofert"
   ]
  },
  {
   "attachments": {},
   "cell_type": "markdown",
   "id": "1b43ab89",
   "metadata": {},
   "source": [
    "Zastosowanie rankingu dotyczącego liczby wystawionych ogłoszeń przez jednego wynajmującego pomaga dostrzec skalę oraz charakter korzystania z portalu przez użytkownika. Pozwala też na wyodrębnienie najwyższych wyników portalu pod tym względem w porównaniu do reszty wyników."
   ]
  },
  {
   "cell_type": "code",
   "execution_count": null,
   "id": "82dce4b4",
   "metadata": {},
   "outputs": [],
   "source": [
    "top_hosts = (pd.DataFrame(df.host_id.value_counts())).head(5)\n",
    "top_hosts.columns=['Liczba ofert']\n",
    "top_hosts['host_id'] = top_hosts.index\n",
    "top_hosts.reset_index(drop=True, inplace=True)\n",
    "top_hosts"
   ]
  },
  {
   "cell_type": "code",
   "execution_count": null,
   "id": "fca2a924",
   "metadata": {},
   "outputs": [],
   "source": [
    "new_dataframe = df[['host_id', 'number_of_reviews', 'latitude', 'longitude', 'price_per_night', 'room_type']]\n",
    "top_hosts_count_reviews = new_dataframe[(new_dataframe['host_id'] == 37312959) | (new_dataframe['host_id'] == 107434423) | (new_dataframe['host_id'] == 30283594) | (new_dataframe['host_id'] == 137358866) | (new_dataframe['host_id'] == 16098958)].reset_index(drop=True) \n",
    "rev_top_group = top_hosts_count_reviews.groupby('host_id', as_index = False)['number_of_reviews'].sum()\n",
    "rev_top_group\n"
   ]
  },
  {
   "cell_type": "markdown",
   "id": "0fee6d25",
   "metadata": {},
   "source": [
    "Użytkownik na najwyższym poziomie rankingu ofert wystawił dokładnie 327 mieszkań, jednak jest to odosobniony przypadek, ponieważ już drugi użytkownik w rankingu miał tych ofert o prawie 100 mniej. Jedynie 4 użytkowników z serwisu wystawiało ponad 100 ofert, więc zdecydowana większość wynajmujących osób nie przekroczy tej bariery."
   ]
  },
  {
   "cell_type": "code",
   "execution_count": null,
   "id": "a3a44f5d",
   "metadata": {},
   "outputs": [],
   "source": [
    "FILTER_PRICE_VALUE = 250\n",
    "sub_airbnb = top_hosts_count_reviews[top_hosts_count_reviews.price_per_night < FILTER_PRICE_VALUE]\n",
    "fig, ax = plt.subplots(figsize=(10, 10))\n",
    "cmap = plt.get_cmap('jet')\n",
    "c = sub_airbnb.price_per_night \n",
    "alpha = 0.5 \n",
    "label = \"airbnb\"\n",
    "price_heatmap = ax.scatter(sub_airbnb.longitude, sub_airbnb.latitude, label=label, c=c,\n",
    " cmap=cmap, alpha=0.4)\n",
    "plt.title(\"Mapa cieplna według ceny w USD\")\n",
    "plt.colorbar(price_heatmap)\n",
    "plt.grid(True)\n",
    "plt.show()"
   ]
  },
  {
   "cell_type": "code",
   "execution_count": null,
   "id": "916ad2d7",
   "metadata": {},
   "outputs": [],
   "source": [
    "map = folium.Map([40.7128,-74.0060],zoom_start=11)\n",
    "folium.plugins.HeatMap(top_hosts_count_reviews[['latitude','longitude']].dropna(),\n",
    "                       radius=8).add_to(map)\n",
    "display(map)\n"
   ]
  },
  {
   "cell_type": "code",
   "execution_count": null,
   "id": "351203e7",
   "metadata": {},
   "outputs": [],
   "source": [
    "plt.figure(figsize=(13,6))\n",
    "sns.countplot(data=top_hosts_count_reviews, x='host_id', hue='room_type')\n",
    "plt.title('Liczba ofert z podziałem na rodzaj pokoju dla wynajmujących z największymi liczbami ofert', fontsize=15)\n",
    "plt.xlabel('Wynajmujący')\n",
    "plt.ylabel(\"Liczba ofert\")\n",
    "plt.legend(frameon=False, fontsize=12) \n",
    "()"
   ]
  },
  {
   "attachments": {},
   "cell_type": "markdown",
   "id": "fff567e9",
   "metadata": {},
   "source": [
    "## Top 5 wynajmujących pod względem liczby recenzji"
   ]
  },
  {
   "cell_type": "code",
   "execution_count": null,
   "id": "375ed432",
   "metadata": {},
   "outputs": [],
   "source": [
    "reviews_top = pd.DataFrame(df.groupby('host_id').sum()['number_of_reviews'])\n",
    "reviews_top_top = (reviews_top.sort_values('number_of_reviews',ascending=False)).head(5)\n",
    "reviews_top_top.columns = ['Liczba recenzji']\n",
    "reviews_top_top['Host_id'] = reviews_top_top.index\n",
    "reviews_top_top.reset_index(drop=True, inplace=True)\n",
    "reviews_top_top"
   ]
  },
  {
   "attachments": {},
   "cell_type": "markdown",
   "id": "f843e1cf",
   "metadata": {},
   "source": [
    "## Top 5 Okręgi pod względem liczby ofert"
   ]
  },
  {
   "attachments": {},
   "cell_type": "markdown",
   "id": "425ae9b7",
   "metadata": {},
   "source": [
    "Wyodrębnienie liczby ogłoszeń ze względu na dzielnice pomaga zaobserwować \"popularność\" okręgów Nowego Jorku. Podział liczby ogłoszeń na okręgi pozwala stwierdzić, które z nich są najbardziej przyjazne potencjalnym najemcom. Oznacza to także atrakcyjność danego obszaru, ponieważ większa sieć mieszkań do wynajęcia może współgrać z większym skupiskiem ludności danej przestrzeni, co także może przełożyć się na bogatsze i bezpieczniejsze warunki życiowe ludności."
   ]
  },
  {
   "cell_type": "code",
   "execution_count": null,
   "id": "c0a5b676",
   "metadata": {},
   "outputs": [],
   "source": [
    "df[\"neighbourhood_group\"] = df[\"neighbourhood_group\"].map(hrabstwo_mapping_reversed)\n",
    "df[\"neighbourhood\"] = df[\"neighbourhood\"].map(dzielnica_mapping_reversed)"
   ]
  },
  {
   "cell_type": "code",
   "execution_count": null,
   "id": "34c1fff4",
   "metadata": {},
   "outputs": [],
   "source": [
    "top_neigh = pd.DataFrame(df['neighbourhood_group'].value_counts().head(5))\n",
    "top_neigh.columns=['Liczba ofert']\n",
    "top_neigh['Okręg'] = top_neigh.index\n",
    "top_neigh.reset_index(drop=True, inplace=True)\n",
    "top_neigh"
   ]
  },
  {
   "cell_type": "code",
   "execution_count": null,
   "id": "e2334e66",
   "metadata": {},
   "outputs": [],
   "source": [
    "f,ax = plt.subplots(figsize=(13,6))\n",
    "ax = sns.countplot(x=df.neighbourhood_group)\n",
    "ax.bar_label(ax.containers[0])\n",
    "plt.xlabel(\"Okręg\")\n",
    "plt.ylabel(\"Liczba ofert\")\n",
    "plt.title(\"Liczba ofert dla poszczególnych okręgów\")\n",
    "plt.show()"
   ]
  },
  {
   "attachments": {},
   "cell_type": "markdown",
   "id": "e84bdd1e",
   "metadata": {},
   "source": [
    "W aspekcie liczby ofert podzielonej na okręgi przoduje Manhattan, jednak zaraz za nim jest Brooklyn z minimalną różnicą ofert. Między tymi dwoma okręgami jest zauważalna mała różnica, natomiast spora różnica pomiędzy względem pozostałych okręgów. Queens plasujące się na trzecim miejscu posiada prawie czterokrotnie mniejszą liczbę ofert od przodujących okręgach. Ostatnie dwa okręgi mają w porównaniu do innych przestrzeni Nowego Jorku niewielką liczbę ofert na portalu AirBnb."
   ]
  },
  {
   "cell_type": "code",
   "execution_count": null,
   "id": "bc2b7396",
   "metadata": {},
   "outputs": [],
   "source": [
    "labels = df.neighbourhood_group.value_counts().index\n",
    "sizes = df.neighbourhood_group.value_counts().values\n",
    "explode = (0.1, 0.2, 0.3, 0.4, 0.6)\n",
    "\n",
    "fig, ax = plt.subplots()\n",
    "wedges, texts, autotexts = ax.pie(sizes, explode=explode, labels=labels, autopct='%1.1f%%',\n",
    "                                   shadow=False, startangle=90)\n",
    "ax.axis('equal')\n",
    "ax.set(title=\"Okręgi z największą liczbą ofert\")\n",
    "ax.legend(wedges, labels,\n",
    "          title=\"Okręgi\",\n",
    "          loc=\"center left\",\n",
    "          bbox_to_anchor=(1, 0, 0.5, 1))\n",
    "plt.setp(autotexts, size=8, weight=\"bold\")\n",
    "plt.show()"
   ]
  },
  {
   "attachments": {},
   "cell_type": "markdown",
   "id": "cce78e5d",
   "metadata": {},
   "source": [
    "Wykres kołowy pozwala na zobrazowanie wielkości zajmowanego \"kawałka tortu\" przez dwa największe okręgi pod względem liczby ofert mieszkaniowych na serwisie AirBnb. Razem zajmują ponad 85% wszystkich ofert portalu. Swoją niszę ma także Queens, które zajmuje 11,6% i plasuje się na pozycji trzeciej. Bronx i Staten Island praktycznie nie liczą się w tym aspekcie, a liczba ogłoszeń może świadczyć o ich ekskluzywności. Jeśli dana osoba szukałaby oferty w tych okolicach musiałaby liczyć się z trudnością w odnalezieniu pasującego ogłoszenia."
   ]
  },
  {
   "attachments": {},
   "cell_type": "markdown",
   "id": "b391967e",
   "metadata": {},
   "source": [
    "## Top 5 dzielnic w każdym okręgu pod względem liczby ofert"
   ]
  },
  {
   "cell_type": "markdown",
   "id": "41e8c2e0",
   "metadata": {},
   "source": [
    "### Brooklyn"
   ]
  },
  {
   "cell_type": "code",
   "execution_count": null,
   "id": "28fd1385",
   "metadata": {},
   "outputs": [],
   "source": [
    "top_dzielnice_Brooklyn = (pd.DataFrame(d_df_Brooklyn['neighbourhood'].value_counts())).head(5)\n",
    "top_dzielnice_Brooklyn.columns=['Liczba ofert']\n",
    "top_dzielnice_Brooklyn['Dzielnica'] = top_dzielnice_Brooklyn.index\n",
    "top_dzielnice_Brooklyn.reset_index(drop=True, inplace=True)\n",
    "top_dzielnice_Brooklyn"
   ]
  },
  {
   "cell_type": "code",
   "execution_count": null,
   "id": "e6b84410",
   "metadata": {},
   "outputs": [],
   "source": [
    "#Dzielnice Brooklyn\n",
    "cena = df[df['neighbourhood_group'] == 'Brooklyn']\n",
    "#Williamsburg\n",
    "cena_Williamsburg = cena.loc[cena['neighbourhood'] == 'Williamsburg']\n",
    "średnia_cena_Williamsburg = cena_Williamsburg['price_per_night'].mean()\n",
    "#Bedford-Stuyvesant\n",
    "cena_Bedford_Stuyvesant = cena.loc[cena['neighbourhood'] == 'Bedford-Stuyvesant']\n",
    "średnia_cena_Bedford_Stuyvesant = cena_Bedford_Stuyvesant['price_per_night'].mean()\n",
    "#Bushwick\n",
    "cena_Bushwick = cena.loc[cena['neighbourhood'] == 'Bushwick']\n",
    "średnia_cena_Bushwick = cena_Bushwick['price_per_night'].mean()\n",
    "#Crown Heights\n",
    "cena_Crown_Heights = cena.loc[cena['neighbourhood'] == 'Crown Heights']\n",
    "średnia_cena_Crown_Heights = cena_Crown_Heights['price_per_night'].mean()\n",
    "#Greenpoint\n",
    "cena_Greenpoint = cena.loc[cena['neighbourhood'] == 'Greenpoint']\n",
    "średnia_cena_Greenpoint = cena_Greenpoint['price_per_night'].mean()\n",
    "\n",
    "#Tabela\n",
    "tabela_brooklyn = [['Williamsburg', średnia_cena_Williamsburg],['Bedford-Stuyvesant', średnia_cena_Bedford_Stuyvesant],['Bushwick', średnia_cena_Bushwick],['Crown Heights', średnia_cena_Crown_Heights],['Greenpoint', średnia_cena_Greenpoint]]\n",
    "df_tabela_brooklyn = pd.DataFrame(tabela_brooklyn)\n",
    "df_tabela_brooklyn.columns = 'Dzielnica', 'Średnia cena za noc'\n",
    "df_tabela_brooklyn"
   ]
  },
  {
   "attachments": {},
   "cell_type": "markdown",
   "id": "30ccea2a",
   "metadata": {},
   "source": [
    "Liczba ofert dla okręgu Brooklyn jest największa dla dwóch dzielnic tj. Williamsburg i sąsiadującej jej dzielnicy Bedford-Stuyvesant, najprawdopodobniej jest to wynikiem popularności dzielnicy Williamsburg, która według portali przyciąga głównie młodych ludzi poprzez, stylowe butiki, modne kawiarnie i tętniące życiem restauracje. Ponadto w tej dzielnicy ludzie często spędzają czas w celu podziwiania panoramy Manhattanu. Powyższe powody świadczą o średniej cenie za noc, która jest najwyższa z najpopularniejszych."
   ]
  },
  {
   "cell_type": "markdown",
   "id": "3415e226",
   "metadata": {},
   "source": [
    "### Manhattan"
   ]
  },
  {
   "cell_type": "code",
   "execution_count": null,
   "id": "5a1e1ae5",
   "metadata": {},
   "outputs": [],
   "source": [
    "top_dzielnice_Manhattan = (pd.DataFrame(d_df_Manhattan['neighbourhood'].value_counts())).head(5)\n",
    "top_dzielnice_Manhattan.columns=['Liczba ofert']\n",
    "top_dzielnice_Manhattan['Dzielnica'] = top_dzielnice_Manhattan.index\n",
    "top_dzielnice_Manhattan.reset_index(drop=True, inplace=True)\n",
    "top_dzielnice_Manhattan"
   ]
  },
  {
   "cell_type": "code",
   "execution_count": null,
   "id": "8ccd2f08",
   "metadata": {},
   "outputs": [],
   "source": [
    "#Dzielnice Manhattan\n",
    "cena = df[df['neighbourhood_group'] == 'Manhattan']\n",
    "#Harlem\n",
    "cena_Harlem = cena.loc[cena['neighbourhood'] == 'Harlem']\n",
    "średnia_cena_Harlem = cena_Harlem['price_per_night'].mean()\n",
    "#Upper West Side\n",
    "cena_Upper_West_Side = cena.loc[cena['neighbourhood'] == 'Upper West Side']\n",
    "średnia_cena_Upper_West_Side = cena_Upper_West_Side['price_per_night'].mean()\n",
    "#Hell's Kitchen\n",
    "cena_Hells_Kitchen = cena.loc[cena['neighbourhood'] == \"Hell's Kitchen\"]\n",
    "średnia_cena_Hells_Kitchen = cena_Hells_Kitchen['price_per_night'].mean()\n",
    "#East Village\n",
    "cena_East_Village = cena.loc[cena['neighbourhood'] == 'East Village']\n",
    "średnia_cena_East_Village = cena_East_Village['price_per_night'].mean()\n",
    "#Upper East Side\n",
    "cena_Upper_East_Side = cena.loc[cena['neighbourhood'] == 'Upper East Side']\n",
    "średnia_cena_Upper_East_Side = cena_Upper_East_Side['price_per_night'].mean()\n",
    "\n",
    "#Tabela\n",
    "tabela_Manhattan = [['Harlem', średnia_cena_Harlem],['Upper West Side', średnia_cena_Upper_West_Side],[\"Hell's Kitchen\", średnia_cena_Hells_Kitchen],['East Village', średnia_cena_East_Village],['Upper East Side', średnia_cena_Upper_East_Side]]\n",
    "df_tabela_Manhattan = pd.DataFrame(tabela_Manhattan)\n",
    "df_tabela_Manhattan.columns = 'Dzielnica', 'Średnia cena za noc'\n",
    "df_tabela_Manhattan"
   ]
  },
  {
   "attachments": {},
   "cell_type": "markdown",
   "id": "e2aa073a",
   "metadata": {},
   "source": [
    "Harlem to dzielnica od dawna znana z kameralnych klubów jazzowych, dziedzictwa kultury afroamerykańskiej oraz miejsc oferujących dania typu soul food, która przyciąga zróżnicowane kulturowo tłumy turystów i mieszkańców. Intensywne życie nocne toczy się w modnych restauracjach, stylowych klubach i popularnych barach.  Jeśli chodzi o najwyższą średnią cenę za noc dzielnicy Hell's Kitchen, prawdopodobnie jest to spowodowane przez położenie tuż obok Central Parku oraz Times Square"
   ]
  },
  {
   "cell_type": "markdown",
   "id": "0a311a8e",
   "metadata": {},
   "source": [
    "### Queens"
   ]
  },
  {
   "cell_type": "code",
   "execution_count": null,
   "id": "185eabaf",
   "metadata": {},
   "outputs": [],
   "source": [
    "top_dzielnice_Queens = (pd.DataFrame(d_df_Queens['neighbourhood'].value_counts())).head(5)\n",
    "top_dzielnice_Queens.columns=['Liczba ofert']\n",
    "top_dzielnice_Queens['Dzielnica'] = top_dzielnice_Queens.index\n",
    "top_dzielnice_Queens.reset_index(drop=True, inplace=True)\n",
    "top_dzielnice_Queens"
   ]
  },
  {
   "cell_type": "code",
   "execution_count": null,
   "id": "02b775ff",
   "metadata": {},
   "outputs": [],
   "source": [
    "#Dzielnice Queens\n",
    "cena = df.loc[df['neighbourhood_group'] == 'Queens']\n",
    "#Astoria\n",
    "cena_Astoria = cena.loc[cena['neighbourhood'] == 'Astoria']\n",
    "średnia_cena_Astoria = cena_Astoria['price_per_night'].mean()\n",
    "#Long Island City\n",
    "cena_Long_Island_City = cena.loc[cena['neighbourhood'] == 'Long Island City']\n",
    "średnia_cena_Long_Island_City = cena_Long_Island_City['price_per_night'].mean()\n",
    "#Flushing\n",
    "cena_Flushing = cena.loc[cena['neighbourhood'] == \"Flushing\"]\n",
    "średnia_cena_Flushing = cena_Flushing['price_per_night'].mean()\n",
    "#Ridgewood\n",
    "cena_Ridgewood = cena.loc[cena['neighbourhood'] == 'Ridgewood']\n",
    "średnia_cena_Ridgewood = cena_Ridgewood['price_per_night'].mean()\n",
    "#Sunnyside\n",
    "cena_Sunnyside = cena.loc[cena['neighbourhood'] == 'Sunnyside']\n",
    "średnia_cena_Sunnyside = cena_Sunnyside['price_per_night'].mean()\n",
    "\n",
    "#Tabela\n",
    "tabela_Queens = [['Astoria', średnia_cena_Astoria],['Long Island City', średnia_cena_Long_Island_City],[\"Flushing\", średnia_cena_Flushing],['Ridgewood', średnia_cena_Ridgewood],['Sunnyside', średnia_cena_Sunnyside]]\n",
    "df_tabela_Queens = pd.DataFrame(tabela_Queens)\n",
    "df_tabela_Queens.columns = 'Dzielnica', 'Średnia cena za noc'\n",
    "df_tabela_Queens"
   ]
  },
  {
   "attachments": {},
   "cell_type": "markdown",
   "id": "c30ade87",
   "metadata": {},
   "source": [
    "Jest to największy okręg w Nowym Jorku. Znajduje się na zachodzie i składa się z kilku małym wysp. Obecnie obszar stale się rozwija. Okręg charakteryzuje się niższą zabudową. Znajdują się tam aż dwa porty lotnicze. W Queens znajduje się jedyne w mieście kasyno. Okręg słynie z zielonych terenów. Jest to idealne miejsce dla amatorów opalania, pływania, jazdy na rowerze oraz gry w golfa. Najliczniejsze dzielnice pod względem ilość ofert znajdują się w sąsiedztwie okręgu Manhattan"
   ]
  },
  {
   "cell_type": "markdown",
   "id": "60a02fbb",
   "metadata": {},
   "source": [
    "### Staten Island"
   ]
  },
  {
   "cell_type": "code",
   "execution_count": null,
   "id": "ebcd858b",
   "metadata": {},
   "outputs": [],
   "source": [
    "top_dzielnice_Staten_Island = (pd.DataFrame(d_df_Staten_Island['neighbourhood'].value_counts())).head(5)\n",
    "top_dzielnice_Staten_Island.columns=['Liczba ofert']\n",
    "top_dzielnice_Staten_Island['Dzielnica'] = top_dzielnice_Staten_Island.index\n",
    "top_dzielnice_Staten_Island.reset_index(drop=True, inplace=True)\n",
    "top_dzielnice_Staten_Island"
   ]
  },
  {
   "cell_type": "code",
   "execution_count": null,
   "id": "d83fc5e3",
   "metadata": {},
   "outputs": [],
   "source": [
    "#Dzielnice Staten Island\n",
    "cena = df.loc[df['neighbourhood_group'] == 'Staten Island']\n",
    "#St. George\n",
    "cena_St_George = cena.loc[cena['neighbourhood'] == 'St. George']\n",
    "średnia_cena_St_George = cena_St_George['price_per_night'].mean()\n",
    "#Tompkinsville\n",
    "cena_Tompkinsville = cena.loc[cena['neighbourhood'] == 'Tompkinsville']\n",
    "średnia_cena_Tompkinsville = cena_Tompkinsville['price_per_night'].mean()\n",
    "#Stapleton\n",
    "cena_Stapleton = cena.loc[cena['neighbourhood'] == \"Stapleton\"]\n",
    "średnia_cena_Stapleton = cena_Stapleton['price_per_night'].mean()\n",
    "#Concord\n",
    "cena_Concord = cena.loc[cena['neighbourhood'] == 'Concord']\n",
    "średnia_cena_Concord = cena_Concord['price_per_night'].mean()\n",
    "#Arrochar\n",
    "cena_Arrochar = cena.loc[cena['neighbourhood'] == 'Arrochar']\n",
    "średnia_cena_Arrochar = cena_Arrochar['price_per_night'].mean()\n",
    "\n",
    "#Tabela\n",
    "tabela_Staten_Island = [['St. George', średnia_cena_St_George],['Tompkinsville', średnia_cena_Tompkinsville],[\"Stapleton\", średnia_cena_Stapleton],['Concord', średnia_cena_Concord],['Arrochar', średnia_cena_Arrochar]]\n",
    "df_tabela_Staten_Island = pd.DataFrame(tabela_Staten_Island)\n",
    "df_tabela_Staten_Island.columns = 'Dzielnica', 'Średnia cena za noc'\n",
    "df_tabela_Staten_Island"
   ]
  },
  {
   "attachments": {},
   "cell_type": "markdown",
   "id": "69ca5393",
   "metadata": {},
   "source": [
    "Dzielnica z najmniejszą ilością ofert, co prawdopodobnie jest spowodowane jej małą popularnością, jeśli chodzi o turystykę (daleka odległość do największych atrakcji miejskich). Jest to okręg najbardziej jednorodny etnicznie i o najmniejszej liczbie populacji. Przez mieszkańców NY jest traktowany jako wiejska prowincja, mimo że jest gęsto zabudowany. Ceny w dzielnicy St.George mogą wynikać z niskiej konkurencyjności oraz położenia, które daje konsumentowi dobry dojazd na Manhattan oraz bliskość zatoki "
   ]
  },
  {
   "cell_type": "markdown",
   "id": "70f9893f",
   "metadata": {},
   "source": [
    "### Bronx"
   ]
  },
  {
   "cell_type": "code",
   "execution_count": null,
   "id": "9e19c602",
   "metadata": {},
   "outputs": [],
   "source": [
    "top_dzielnice_Bronx = (pd.DataFrame(d_df_Bronx['neighbourhood'].value_counts())).head(5)\n",
    "top_dzielnice_Bronx.columns=['Liczba ofert']\n",
    "top_dzielnice_Bronx['Dzielnica'] = top_dzielnice_Bronx.index\n",
    "top_dzielnice_Bronx.reset_index(drop=True, inplace=True)\n",
    "top_dzielnice_Bronx"
   ]
  },
  {
   "cell_type": "code",
   "execution_count": null,
   "id": "003726cc",
   "metadata": {},
   "outputs": [],
   "source": [
    "#Dzielnice Bronx\n",
    "cena = df.loc[df['neighbourhood_group'] == 'Bronx']\n",
    "#Kingsbridge\n",
    "cena_Kingsbridge = cena.loc[cena['neighbourhood'] == 'Kingsbridge']\n",
    "średnia_cena_Kingsbridge = cena_Kingsbridge['price_per_night'].mean()\n",
    "#Fordham\n",
    "cena_Fordham = cena.loc[cena['neighbourhood'] == 'Fordham']\n",
    "średnia_cena_Fordham = cena_Fordham['price_per_night'].mean()\n",
    "#Longwood\n",
    "cena_Longwood = cena.loc[cena['neighbourhood'] == \"Longwood\"]\n",
    "średnia_cena_Longwood = cena_Longwood['price_per_night'].mean()\n",
    "#Mott Haven\n",
    "cena_Mott_Haven = cena.loc[cena['neighbourhood'] == 'Mott Haven']\n",
    "średnia_cena_Mott_Haven = cena_Mott_Haven['price_per_night'].mean()\n",
    "#Concourse\n",
    "cena_Concourse = cena.loc[cena['neighbourhood'] == 'Concourse']\n",
    "średnia_cena_Concourse = cena_Concourse['price_per_night'].mean()\n",
    "\n",
    "#Tabela\n",
    "tabela_Bronx = [['Kingsbridge', średnia_cena_Kingsbridge],['Fordham', średnia_cena_Fordham],[\"Longwood\", średnia_cena_Longwood],['Mott Haven', średnia_cena_Mott_Haven],['Concourse', średnia_cena_Concourse]]\n",
    "df_tabela_Bronx = pd.DataFrame(tabela_Bronx)\n",
    "df_tabela_Bronx.columns = 'Dzielnica', 'Średnia cena za noc'\n",
    "df_tabela_Bronx"
   ]
  },
  {
   "attachments": {},
   "cell_type": "markdown",
   "id": "6ad90022",
   "metadata": {},
   "source": [
    "Mała ilość ofert dla dzielnicy Bronx może wynikać, z tego iż jest ona owiana złą sławą w wyniku znaczącej przestępczości oraz biedoty."
   ]
  },
  {
   "cell_type": "markdown",
   "id": "88bbf903",
   "metadata": {},
   "source": [
    "## Top 3 ofert pod względem liczby recenzji"
   ]
  },
  {
   "attachments": {},
   "cell_type": "markdown",
   "id": "b7658d3d",
   "metadata": {},
   "source": [
    "Podział na największą liczbą wyświetleń pozwala na sprawdzenie popularności serwisu oraz jego ofert. Oferta z największą liczbą wyświetleń badanego okresu wynosi dokładnie 629. W takim razie oferty w Nowym Jorku mogą przyciągać do siebie kilkuset użytkowników serwisu."
   ]
  },
  {
   "cell_type": "code",
   "execution_count": null,
   "id": "815def88",
   "metadata": {},
   "outputs": [],
   "source": [
    "rev_group = pd.DataFrame(df.groupby('number_of_reviews').sum()['host_id'])\n",
    "most_reviewed = (rev_group.sort_values('number_of_reviews',ascending=False)).head(3)\n",
    "most_reviewed.columns = ['Host ID']\n",
    "most_reviewed['Liczba recenzji'] = most_reviewed.index\n",
    "most_reviewed.reset_index(drop=True, inplace=True)\n",
    "most_reviewed\n"
   ]
  },
  {
   "attachments": {},
   "cell_type": "markdown",
   "id": "7c4e0474",
   "metadata": {},
   "source": [
    "!!! Przejrzeć te hosty pod względem liczby ofert, zobaczyć te oferty(typy pokojów itd itp), wyświetlić na mapie lokalizacje dla danego hosta, przejrzeć opisy ofert, przejrzeć ceny, porównać do średniej ceny ogólnej, sprawdzić ostatnią datę recenzji / Konrad"
   ]
  },
  {
   "attachments": {},
   "cell_type": "markdown",
   "id": "8dacab73",
   "metadata": {},
   "source": [
    "## Top 5 wynajmujących pod względem liczby miesięcznych recenzji"
   ]
  },
  {
   "cell_type": "markdown",
   "id": "a38cc72a",
   "metadata": {},
   "source": [
    "Wyświetlenia ofert serwisu w skali miesięcznej pozwolą na wizualizację popytu użytkowników w mniejszym okresie."
   ]
  },
  {
   "cell_type": "code",
   "execution_count": null,
   "id": "6073870d",
   "metadata": {},
   "outputs": [],
   "source": [
    "rev_month = pd.DataFrame(df.groupby('host_id').sum()['reviews_per_month'])\n",
    "rev_month = (rev_month.sort_values('reviews_per_month', ascending=False)).head(5)\n",
    "rev_month.columns = ['Liczba recenzji na miesiąc']\n",
    "rev_month['Host_id'] = rev_month.index\n",
    "rev_month.reset_index(drop=True, inplace=True)\n",
    "rev_month"
   ]
  },
  {
   "attachments": {},
   "cell_type": "markdown",
   "id": "1d6a3632",
   "metadata": {},
   "source": [
    "Widzimy, że jeden z hostów przewyższa poprzedniego ponad 3-krotnie w liczbach recenzji na miesiąc. Może się to dziać z wielu powodów:\n",
    "- badany host ma bardzo dużą ilość obiektów na wynajem,\n",
    "- badany host ma bardzo małą ilość minimalnych nocy w swoich miejscach na wynajem.\n",
    "\n",
    "Prawda najprawdopodobniej znajduje się gdzieś pomiędzy, dlatego sprawdzimy kilka mieszkań tego hosta oraz określimy ile ich ogólnie posiada i gdzie się znajdują."
   ]
  },
  {
   "cell_type": "code",
   "execution_count": null,
   "id": "2a0d319d",
   "metadata": {},
   "outputs": [],
   "source": [
    "top_host_objects = pd.DataFrame(df[[\"host_id\", \"name\", \"price\", \"price_per_night\", \"neighbourhood_group\", \"room_type\", \"latitude\", \"longitude\", \"reviews_per_month\", \"number_of_reviews\", \"minimum_nights\"]])\n",
    "top_host_objects = top_host_objects[top_host_objects[\"host_id\"] == 219517861].reset_index(drop=True)\n",
    "top_host_objects_count = top_host_objects[\"host_id\"].count()\n",
    "top_host_objects.sort_values(\"price_per_night\", inplace=True, ascending=False)\n",
    "top_host_objects.head(15)"
   ]
  },
  {
   "cell_type": "code",
   "execution_count": null,
   "id": "6c5ac9c6",
   "metadata": {},
   "outputs": [],
   "source": [
    "print(f\"Ilość obiektów na wynajem: {top_host_objects_count}\")"
   ]
  },
  {
   "cell_type": "code",
   "execution_count": null,
   "id": "df8e9ddf",
   "metadata": {},
   "outputs": [],
   "source": [
    "top_host_objects[\"neighbourhood_group\"].unique()"
   ]
  },
  {
   "attachments": {},
   "cell_type": "markdown",
   "id": "4666d76c",
   "metadata": {},
   "source": [
    "Przeglądając powyższe wyniki programu widzimy, że ceny tego hosta sięgają wysokich cen za pobyt. Spoglądając na wartości długości i szerokości geograficznej widzimy również, że znajdują się bardzo blisko siebie. Zostanie to zaprezentowane w sposób graficzny na mapie w późniejszym etapie analizy. Widzimy również, że nazwa każdego z obiektów podąża za określonym schematem określonej firmy, a prawdziwy opis ogranicza się tylko do ilości sypialni oraz jakiś element, który autor uważał że wyróżnia ten obiekt spośród innych.\n",
    "\n",
    "\n",
    "Widzimy również, że pod tego określonego hosta przypisanych jest aż 327 obiektów. Co ciekawe, wszystkie z nich znajdują się na Manhattanie.\n",
    "\n",
    "\n",
    "Sprawdzimy teraz, jak wygląda rozkład nieruchomości tego hosta."
   ]
  },
  {
   "cell_type": "code",
   "execution_count": null,
   "id": "fe19944e",
   "metadata": {},
   "outputs": [],
   "source": [
    "fig, ax = plt.subplots(1 ,2, figsize=(20, 6))\n",
    "ax[0].set_title(\"Rozkład cen dla obiektów tego hosta\", fontsize=12)\n",
    "ax[0].set_xlabel(\"Cena za pobyt\")\n",
    "ax[0].set_ylabel(\"Liczba ofert\")\n",
    "ax[1].set_title(\"Rozkład minimalnych ilości nocy obiektów tego hosta\", fontsize=12)\n",
    "ax[1].set_xlabel(\"Minimalna ilość nocy\")\n",
    "ax[1].set_ylabel(\"Liczba ofert\")\n",
    "sns.histplot(data=top_host_objects, x=\"price\", kde=True, binwidth=20, ax=ax[0])\n",
    "sns.histplot(data=top_host_objects, x=\"minimum_nights\", kde=True, binwidth=1, ax=ax[1]);"
   ]
  },
  {
   "cell_type": "code",
   "execution_count": null,
   "id": "467861e7",
   "metadata": {},
   "outputs": [],
   "source": [
    "room = top_host_objects[top_host_objects[\"room_type\"] == \"Private room\"].room_type.count()\n",
    "entire_apt = top_host_objects[top_host_objects[\"room_type\"] == \"Entire home/apt\"].room_type.count()\n",
    "print(f\"Unikalne wartości minimum_nights: {top_host_objects.minimum_nights.unique()}\\nIlość pokojów na wynajem: {room} \\nIlość całych mieszkań na wynajem: {entire_apt}\\n\")\n"
   ]
  },
  {
   "cell_type": "code",
   "execution_count": null,
   "id": "64fcf5dc",
   "metadata": {},
   "outputs": [],
   "source": [
    "minimum_nights2_top_host = top_host_objects[top_host_objects[\"minimum_nights\"] == 2].describe().price\n",
    "minimum_nights29_top_host = top_host_objects[top_host_objects[\"minimum_nights\"] == 29].describe().price\n",
    "whole_average = df[\"price_per_night\"].mean()\n",
    "print(f\"Wartości ceny dla minimum_nights == 2:\\n\\n{minimum_nights2_top_host}\\n\\nWartości ceny dla minimum_nights == 29:\\n\\n{minimum_nights29_top_host}\\n\\nŚrednia całego zbioru: ${whole_average:.2f}\")"
   ]
  },
  {
   "attachments": {},
   "cell_type": "markdown",
   "id": "632f8924",
   "metadata": {},
   "source": [
    "Największa ilość ofert oscyluje w okolicach wartości $200, ale przeglądając oferty tego hosta, znajdziemy też obiekty które kosztowały aż $700, natomiast minimalna wartość to $100. Porównując je do średniej z całego naszego zbioru możemy zauważyć, że te średnie ceny są znacznie wyższe, ale pomimo to wydają się być bardzo popularne. Co ciekawe, rozkład minimalnej ilości nocy wskazuje na to, że wszystkie te wystawione nieruchomości do wynajęcia są na co najmniej 2 lub 29 dni. Cena średnia jest wyższa o $70 dla pokojów wynajmowanych na minimum 2 noce. Może to być spowodowane ograniczeniami pewnych nieruchomości na wynajem na mniej niż okres miesiąca który obowiązywał w Nowym Jorku w roku 2019. Możliwe, że w tej cenie zawarte jest pewne ubezpieczenie wynajmującego na wypadek grzywny. Aktualnie, czas ten został wydłużony do 3 miesięcy.\n",
    "\n",
    "Sprawdźmy, czy znajdziemy jakieś odstające wartości pod względem recenzji."
   ]
  },
  {
   "cell_type": "code",
   "execution_count": null,
   "id": "b2780866",
   "metadata": {},
   "outputs": [],
   "source": [
    "fig, ax = plt.subplots(1 ,2, figsize=(20, 6))\n",
    "ax[0].set_title(\"Rozkład co miesięcznych recenzji tego hosta\", fontsize=12)\n",
    "ax[0].set_xlabel(\"Ilość recenzji na miesiąc o określonym obiekcie\")\n",
    "ax[0].set_ylabel(\"Liczba ofert\")\n",
    "ax[1].set_title(\"Rozkład całkowitych recenzji dla obiektów tego hosta\", fontsize=12)\n",
    "ax[1].set_xlabel(\"Ilość recenzji o określonym obiekcie\")\n",
    "ax[1].set_ylabel(\"Liczba ofert\")\n",
    "sns.histplot(data=top_host_objects, x=\"reviews_per_month\", kde=True, binwidth=0.1, ax=ax[0]);\n",
    "sns.histplot(data=top_host_objects, x=\"number_of_reviews\", kde=True, binwidth=1, ax=ax[1]);"
   ]
  },
  {
   "attachments": {},
   "cell_type": "markdown",
   "id": "ae1df1b2",
   "metadata": {},
   "source": [
    "Powyższy wykres mówi nam, że około 1/3 wszystkich obiektów posiada blisko 0 recenzji. Ten sam wniosek tyczy się zarówno recenzji na miesiąc jak i ogólnej metryki.\n",
    "\n",
    "Przejdźmy więc do przeglądu badanych mieszkań i domów na mapie."
   ]
  },
  {
   "cell_type": "code",
   "execution_count": null,
   "id": "95bec699",
   "metadata": {},
   "outputs": [],
   "source": [
    "top_host_rev_month = folium.Map([40.7128,-74.0060],zoom_start=11)\n",
    "folium.plugins.HeatMap(top_host_objects[['latitude','longitude']].dropna(),\n",
    "                       radius=8).add_to(top_host_rev_month)\n",
    "display(top_host_rev_month)"
   ]
  },
  {
   "attachments": {},
   "cell_type": "markdown",
   "id": "a4122bc0",
   "metadata": {},
   "source": [
    "Przedstawienie tych mieszkań na mapie odkrywa bardzo ciekawą zależność. Większość tych mieszkań znajduje się na Wall Street, a dokładniej dookoła Nowojorskiej giełdy papierów wartościowych. Oznacza to, że z dużą dozą pewności możemy założyć, że są one wynajmowane przez ludzi związanymi z giełdą, co oznacza że możliwe jest wynajęcie ich po tak wysokiej cenie w porównaniu do średniej."
   ]
  },
  {
   "cell_type": "markdown",
   "id": "710cb4bb",
   "metadata": {},
   "source": [
    "## Oferty według typu pokoju/apartamentu"
   ]
  },
  {
   "attachments": {},
   "cell_type": "markdown",
   "id": "9abd3a32",
   "metadata": {},
   "source": [
    "Podczas korzystania z serwisu AirBnB możliwe będzie wynajęcie nie tylko całego mieszkania, ale również i współdzielonego pokoju, pojedynczego prywatnego pokoju, a nawet i całego wolno stojącego domu! W przypadku Nowego Jorku ta ostatnia wersja jest ekstremalną rzadkością, dlatego też możemy założyć, że kategoria \"Entire home/apt\" odnosi się w większości do apartamentów oraz różnego rodzaju mieszkań aniżeli całych domów w dosłownym znaczeniu. Poniższy wykres przedstawia rozkład wszystkich badanych tu ogłoszeń podzielonych i zestawionych ze sobą właśnie na podstawie typu wynajmowanego obiektu."
   ]
  },
  {
   "cell_type": "code",
   "execution_count": null,
   "id": "1a689972",
   "metadata": {},
   "outputs": [],
   "source": [
    "plt.figure(figsize=(13,6))\n",
    "sns.countplot(data=df, x='room_type')\n",
    "plt.title('Liczba danego typu pokoju/apartamentu', fontsize=15)\n",
    "plt.xlabel('Typ pokoju')\n",
    "plt.ylabel(\"Liczba\")\n",
    "()"
   ]
  },
  {
   "attachments": {},
   "cell_type": "markdown",
   "id": "5aa7a471",
   "metadata": {},
   "source": [
    "Powyższy podział na rodzaje wynajmowanego mieszkania pozwala na obserwację niewielkiej różnicy w liczbie ogłoszeń pomiędzy jednym pokojem, a całym apartamentem na korzyść apartamentów oraz niewielkim wkładem w rynek pokojów dzielonych z lokatorem \"shared room\". Może to być spowodowane wieloma czynnikami. Najbardziej prawdopodobnym z nich jest fakt, że współdzielony pokój zapewnia bardzo niewielką przestrzeń prywatną, co dla wielu może przekreślić nawet najbardziej atrakcyjną ofertę pod względem położenia czy też nawet ceny.\n",
    "\n",
    "Wynajmowanie prywatnego pokoju natomiast cieszy się bardzo dużą popularnością. Pozwala ona często na pasywny dochód dla właściciela mieszkania, ale niesie za sobą kolejne koszta, zarówno w postaci materialnej jak i wcześniej wspomnianej prywatności.\n",
    "\n",
    "Ogłoszenia całych mieszkań jest zarezerwowane dla osób zamożnych, które najprawdopodobniej posiadają kolejną nieruchomość, która mogą wykorzystać jako swój dom, a poprzez wynajęcie zapewniają sobie dochód oraz potencjalnie nowe znajomości."
   ]
  },
  {
   "cell_type": "code",
   "execution_count": null,
   "id": "27a91289",
   "metadata": {},
   "outputs": [],
   "source": [
    "plt.figure(figsize=(13,6))\n",
    "sns.countplot(data=df, x='neighbourhood_group', hue='room_type')\n",
    "plt.title('Liczba ofert z podziałem na rodzaj pokoju wraz i podziałem na okręgi', fontsize=15)\n",
    "plt.xlabel('Okręg')\n",
    "plt.ylabel(\"Liczba ofert\")\n",
    "plt.legend(frameon=False, fontsize=12) \n",
    "()"
   ]
  },
  {
   "attachments": {},
   "cell_type": "markdown",
   "id": "065b5103",
   "metadata": {},
   "source": [
    "Jak widać na powyższym wykresie, liczba wynajmowanych mieszkań jest największa na Manhattan'ie. Pokrywa się z wcześniejszym wnioskiem dotyczącym zamożności właściciela oraz wynajmowaniem całego mieszkania wyłącznie w celach zarobkowych. \n",
    "\n",
    "Proporcja współdzielonego pokoju pozostała na bardzo podobnym poziomie dla wszystkich badanych okręgów.\n",
    "\n",
    "Ciekawym wynikiem jest natomiast większa liczba wynajmowanych prywatnych pokojów w porównaniu do całych mieszkań. Jest to prawdopodobnie uwarunkowane niższymi cenami i jak będzie to przedstawione na kolejnych wykresach, ceny pomiędzy okręgami mogą się różnić nawet kilkukrotnie dla mieszkania czy też pokoju z podobnego poziomu. Kolejnym powodem może być ogromna przewaga wynajmowania całych mieszkań ponad pokojami na Manhattan'ie, natomiast w rozrachunku dla całego Nowego Jorku, nie widzimy aż takiej różnicy."
   ]
  },
  {
   "attachments": {},
   "cell_type": "markdown",
   "id": "593c0e7b",
   "metadata": {},
   "source": [
    "Ciekawa wizualizacja sporej przewagi liczby ofert apartamentów nad pokojami w Manhatanie i niewielkiej przewagi pokojów w pozostałych okręgach. "
   ]
  },
  {
   "cell_type": "markdown",
   "id": "a4050f85",
   "metadata": {},
   "source": [
    "### Rozkłady cen ogłoszeń dla każdego z okręgów"
   ]
  },
  {
   "attachments": {},
   "cell_type": "markdown",
   "id": "734c7c1a",
   "metadata": {},
   "source": [
    "Uważamy, że warto spojrzeć na uszeregowane najdroższe obiekty dostępne do wynajęcia według naszej bazy danych. Pozwoli nam to określić gdzie znajdują się najbardziej kosztowne miejsca. Posortowane będą według ceny na noc."
   ]
  },
  {
   "cell_type": "code",
   "execution_count": null,
   "id": "7291cc5f",
   "metadata": {},
   "outputs": [],
   "source": [
    "expensive_apts = df[[\"host_id\", \"name\", \"price\", \"price_per_night\", \"neighbourhood_group\", \"latitude\", \"longitude\", \"number_of_reviews\", \"minimum_nights\"]].copy()\n",
    "# Jeżeli chcemy odwrócić znowu na wartości liczbowe to używamy map(hrabstwo_mapping) zamiast map(hrabstwo_mapping_reversed)\n",
    "expensive_apts.sort_values(\"price_per_night\", inplace=True, ascending=False)\n",
    "expensive_apts.head(20)"
   ]
  },
  {
   "attachments": {},
   "cell_type": "markdown",
   "id": "24ef49b2",
   "metadata": {},
   "source": [
    "Powyżej zostały przedstawione 20 najdroższych obiektów. Tak jak moglibyśmy zakładać na podstawie wcześniejszej analizy, największa ilość drogich obiektów znajduje się w obrębie Manhattanu, bo aż 15 z 20 tutaj wyświetlonych. Pierwsza pozycja to lokalizacja filmowa. Oznacza to, że nie jest ona przeznaczona do spędzenia tam nocy, ale tylko do wykorzystania obecnej tam scenerii do wykonania własnego filmu czy zdjęcia. Na powyższej liście możemy znaleźć więcej podobnych miejsc, ale to ta wymaga największego wkładu finansowego. Najdroższym z nich jest to przedstawione poniżej:"
   ]
  },
  {
   "attachments": {},
   "cell_type": "markdown",
   "id": "47ba6008",
   "metadata": {},
   "source": [
    "![Top_Priced_Filming_Location](img/top_price_filming_spot.png)"
   ]
  },
  {
   "attachments": {},
   "cell_type": "markdown",
   "id": "530af266",
   "metadata": {},
   "source": [
    "Nie udało nam się znaleźć wyjaśnienia dlaczego wynajęcie tego miejsca jest aż tak drogie. Aktualnie to miejsce jest zarejestrowane jako siedzibą adwokata \"Carl J. Muraco Attorney at Law\". "
   ]
  },
  {
   "attachments": {},
   "cell_type": "markdown",
   "id": "c2290339",
   "metadata": {},
   "source": [
    "Kolejne miejsca nie wybiegają poza normę, jakiej możnaby się spodziewać za tą cenę: wynajęcie kilkunastometrowego jachtu, wille, domy o metrażu przekraczającym kilkaset metrów kwadratowych w centrum Manhattanu czy też całą galerię na własny użytek. Możliwe jest również wynajęcie mieszkania w pobliżu stadionu podczas zawodów SUPER BOWL. Podczas badania tych danych możemy zauważyć, że jednak nie wszystkie obiekty zasługują na tą cenę. W tym przypadku, jesteśmy skłonni stwierdzić, że noc w mieszkaniu z jedną sypialnią w Soho, Manhattan nie jest warta zawrotnej ceny $5000, ale możliwym jest również jednorazowe wydarzenie w pobliżu, które wywindowało cenę do tego stopnia.\n",
    "\n",
    "Nałożmy powyższe dane na mapę. Dla zwiększenia czytelności, dodamy również znaczniki odpowiadające każdemu z tych obiektów."
   ]
  },
  {
   "cell_type": "code",
   "execution_count": null,
   "id": "e7b8f02b",
   "metadata": {},
   "outputs": [],
   "source": [
    "def add_Markers(dest_map, dataframe, amount = 30):\n",
    "   # dest_map: mapa, na którą chcemy nałożyć markery\n",
    "   # dataframe: dataframe, z którego pobierane będą dane w celu określenia pozycji markerów\n",
    "   # amount: liczba markerów do utworzenia na mapie. Liczba jest brana z head'a danego dataframe'a, dlatego też może konieczne być sortowanie\n",
    "    for i in range(0,amount):\n",
    "       folium.Marker(\n",
    "          location=[dataframe.head(amount).iloc[i]['latitude'], dataframe.head(amount).iloc[i]['longitude']],\n",
    "          popup=dataframe.head(amount).iloc[i]['name'],\n",
    "       ).add_to(dest_map)"
   ]
  },
  {
   "cell_type": "code",
   "execution_count": null,
   "id": "8760f361",
   "metadata": {},
   "outputs": [],
   "source": [
    "expensive_map = folium.Map([40.7128,-74.0060],zoom_start=11)\n",
    "folium.plugins.HeatMap(expensive_apts[['latitude','longitude']].head(20).dropna(),\n",
    "                       radius=8, gradient={0.2:'blue',0.4:'purple',0.6:'orange',1.0:'red'}).add_to(expensive_map)\n",
    "\n",
    "add_Markers(expensive_map, expensive_apts, 20)\n",
    "\n",
    "expensive_map"
   ]
  },
  {
   "attachments": {},
   "cell_type": "markdown",
   "id": "e3b33e39",
   "metadata": {},
   "source": [
    "Dzięki powyższej mapie, łatwo można zauważyć, że obiekty normalne (czyli przeznaczone do spędzenia tam nocy) w lwiej części znajdują się w okręgu Manhattan oraz zaskakująco - w Queens. Reszta, czyli placówki do filmowania znajdują się zarówno na Staten Island, Brooklyn."
   ]
  },
  {
   "attachments": {},
   "cell_type": "markdown",
   "id": "4fb37f8a",
   "metadata": {},
   "source": [
    "Jako, że wykonaliśmy powyższą analizę dla najdroższych miejsc, wykonamy analogiczne zestawienie dla najtańszych miejsc."
   ]
  },
  {
   "cell_type": "code",
   "execution_count": null,
   "id": "00adbb26",
   "metadata": {},
   "outputs": [],
   "source": [
    "expensive_apts.sort_values(\"price\", inplace=True)\n",
    "expensive_apts.head(20)"
   ]
  },
  {
   "attachments": {},
   "cell_type": "markdown",
   "id": "125450c1",
   "metadata": {},
   "source": [
    "Powyższe obiekty rozsiane są głównie na Brooklynie oraz Queens, co zobaczyć będzie można znacznie lepiej na mapie z tymi wyznacznikami. Widzimy jednak, że parametr cena na noc nie jest idealnym wyznacznikiem ponieważ nasza baza danych jest obarczona niejednoznacznością oznaczenia parametru cena. Mianowicie, przy krótkich ilościach minimalnych noclegów, cena wydaje się oznaczać cenę na noc, natomiast przy ich większej ilości, jest ona sumaryczną kwotą za cały pobyt. Dlatego też tutaj posortowane zostały wartości na podstawie samej ceny.\n",
    "\n",
    "W tabeli można wywnioskować, że większość z tych obiektów nie korzysta z tytułu w celu zamieszenia krótkiego opisu wynajmowanego pokoju. Widzimy natomiast, że jest tam umieszczone umiejscowienie geograficzne, a bardziej dokładnie odległość od pewnych orientacyjnych i często uczęszczanych punktów typu Central Park czy Downtown Manhattan. Sprawdzimy jak to wygląda na mapie."
   ]
  },
  {
   "cell_type": "code",
   "execution_count": null,
   "id": "b00c8734",
   "metadata": {},
   "outputs": [],
   "source": [
    "cheap_map = folium.Map([40.6810,-74.0060],zoom_start=11)\n",
    "folium.plugins.HeatMap(expensive_apts[['latitude','longitude']].head(20).dropna(),\n",
    "                       radius=8, gradient={0.2:'blue',0.4:'purple',0.6:'orange',1.0:'red'}).add_to(cheap_map)\n",
    "\n",
    "add_Markers(cheap_map, expensive_apts, 20)\n",
    "display(cheap_map)"
   ]
  },
  {
   "attachments": {},
   "cell_type": "markdown",
   "id": "6c20c62f",
   "metadata": {},
   "source": [
    "Widzimy, że umieszczone na mapie znaczniki znacznie częściej wskazują teren Brooklynu od innych okręgów. Jest to prawodopodobnie spowodowane znacznie przeważającą ilością zapisanych obiektów dla Manhattanu oraz Brooklynu (łącznie ~40000 rekordów) w porównaniu do całości bazy (~48000 rekordów), co może oznaczać że mimo podobnej średniej ceny mieszkań w porónwaniu do reszty Nowego Jorku (poza Manhattanem) pojawia się tam po prostu z większą częstością. Innym powodem może być również mniejsza średnia cena w porównaniu do mieszkań położonych na Manhattanie."
   ]
  },
  {
   "cell_type": "code",
   "execution_count": null,
   "id": "7f5f4e48",
   "metadata": {},
   "outputs": [],
   "source": [
    "sub=df[df.price_per_night <= 1000]\n",
    "plt.figure(figsize=(15,8))\n",
    "plt.margins(x=0)\n",
    "plt.title('Rozkład cen dla poszczególnych okręgów', fontsize=15)\n",
    "plt.xlabel('Cena za noc')\n",
    "plt.ylabel(\"Liczba ofert\")\n",
    "sns.histplot(data=sub, x=\"price_per_night\", hue=\"neighbourhood_group\", kde=True, binwidth=20);"
   ]
  },
  {
   "attachments": {},
   "cell_type": "markdown",
   "id": "c0e1abd0",
   "metadata": {},
   "source": [
    "W wyniku analizy wykresu rozkładu cen dla poszczególnych dzielnic, możemy wywnioskować iż ceny powyżej 400 dolarów za noc są to oferty, które są rzadkością min. Wynajem miejsca pod zdjęcia filmowe. W celu implementacji modeli predykcyjnych, wartości powyżej 500 nie będą brane pod uwagę. Ponadto możemy zauważyć, że najpopularniejszymi dzielnicami pod względem ofert w serwisie Airbnb w Nowym Jorku, są Brooklyn oraz Manhattan, gdzie w drugim okręgu w wyniku atrakcyjności okręgu ofert, gdzie cena jest stosunkowo wysoka jest więcej."
   ]
  },
  {
   "attachments": {},
   "cell_type": "markdown",
   "id": "0dfe4994",
   "metadata": {},
   "source": [
    "Ze względu na ogromną różnicę w liczbie ogłoszeń pomiędzy Manhattanem czy też Brooklynem, a pozostałymi dzielnicami, ciekawym punktem zaczepienia będzie zestawienie ich cen ze względu na położenie. W tym celu, skorzystamy z wykresu skrzypcowego z podziałem na główne badane okręgi. Pozwoli to określić w jaki sposób rozkładają się ceny mieszkań w każdym z nich. Ze względu z wcześniejszą analizą, ograniczymy badane wartości do $500."
   ]
  },
  {
   "cell_type": "code",
   "execution_count": null,
   "id": "2873ed36",
   "metadata": {},
   "outputs": [],
   "source": [
    "sub=df[df.price <= 500]\n",
    "viol=sns.violinplot(data=sub, x='neighbourhood_group', y='price').set(title=\"Rozkład ceny ogłoszeń dla każdego z okręgów\")"
   ]
  },
  {
   "attachments": {},
   "cell_type": "markdown",
   "id": "5ae44047",
   "metadata": {},
   "source": [
    "Powyższy wykres pokazuje, jak bardzo różni się docelowy rynek pomiędzy Manhattan'em, a resztą Nowego Jorku. \n",
    "\n",
    "Dla każdego z pozostałych okręgów możemy zaobserwować widoczne \"wybrzuszenie się\" naszych skrzypiec w dolnych granicach, gdzieś około wartości $60 - $70 i potem mniej lub bardziej gwałtowny spadek liczby ogłoszeń, aż do osiągnięcia bardzo niewielkiej szerokości naszych wykresów. Średnia wartość plasuje się w okolicach $80 dla Brooklynu, Queens, Staten Island oraz Bronxu.\n",
    "\n",
    "Sytuacja wygląda zgoła inaczej w przypadku Manhattanu. Sama średnia kwota, którą musimy zapłacić wynosi w przybliżeniu $150. Nie jesteśmy w stanie również zaobserwować tak dużej liczbie ogłoszeń w podobnej cenie, jako że liczba ogłoszeń maleje w znacznie wolniejszym tempie w porównaniu do pozostałych okręgów. Widzimy również zwężenie do minimalnej szerokości następuje gdzieś w okolicy $400, gdzie dla reszty dzieję się to przy około $300. Pokazuje to, że w tym miejscu możemy znaleźć znacznie bardziej różnorodne mieszkania o różnych standardach, co jest mnożone poprzez umiejscowienie geograficzne w okolicy ludzi sukcesu oraz bogaczy."
   ]
  },
  {
   "cell_type": "markdown",
   "id": "27df78a1",
   "metadata": {},
   "source": [
    "Ze względu na ciekawe wyniki powyższych odczytów, sprawdzmy jak statystycznie wyglądają ceny w poszczególnych dzielnicach.\n",
    "Poniżej umieściliśmy dane z cen dla każdej z dzielnic w jednej liście."
   ]
  },
  {
   "cell_type": "code",
   "execution_count": null,
   "id": "43835757",
   "metadata": {},
   "outputs": [],
   "source": [
    "#Brooklyn\n",
    "sub_1=df.loc[df['neighbourhood_group'] == 'Brooklyn']\n",
    "price_sub1=sub_1[['price']]\n",
    "#Manhattan\n",
    "sub_2=df.loc[df['neighbourhood_group'] == 'Manhattan']\n",
    "price_sub2=sub_2[['price']]\n",
    "#Queens\n",
    "sub_3=df.loc[df['neighbourhood_group'] == 'Queens']\n",
    "price_sub3=sub_3[['price']]\n",
    "#Staten Island\n",
    "sub_4=df.loc[df['neighbourhood_group'] == 'Staten Island']\n",
    "price_sub4=sub_4[['price']]\n",
    "#Bronx\n",
    "sub_5=df.loc[df['neighbourhood_group'] == 'Bronx']\n",
    "price_sub5=sub_5[['price']]\n",
    "\n",
    "price_list_by_n=[price_sub1, price_sub2, price_sub3, price_sub4, price_sub5]"
   ]
  },
  {
   "cell_type": "markdown",
   "id": "1f1a3c56",
   "metadata": {},
   "source": [
    "Teraz utworzymy tabelę, która pokaże nam, jak wyglądają poszczególne kwartyle dla każdego z okręgów. Pozwoli to nam określić, jak na przestrzeni całego zbioru plasują się określone mieszkania i jakich kategorii cenowych możemy oczekiwać."
   ]
  },
  {
   "cell_type": "code",
   "execution_count": null,
   "id": "b2a12a52",
   "metadata": {},
   "outputs": [],
   "source": [
    "data_table=[]\n",
    "name_list=['Brooklyn', 'Manhattan', 'Queens', 'Staten Island', 'Bronx']\n",
    "\n",
    "#Zbieranie statystyk dla cen określonych przez centyle\n",
    "\n",
    "for x in price_list_by_n:\n",
    "    i=x.describe(percentiles=[.25, .50, .75])\n",
    "    i=i.iloc[3:]\n",
    "    i.reset_index(inplace=True)\n",
    "    i.rename(columns={'index':'Stats'}, inplace=True)\n",
    "    data_table.append(i)\n",
    "    \n",
    "#\n",
    "#Zmiana nazw w celu łatwiejszego odczytania nazw okręgów \n",
    "   \n",
    "for i in range(5):\n",
    "    data_table[i].rename(columns={'price':name_list[i]}, inplace=True)  \n",
    "data_table=[df.set_index('Stats') for df in data_table]\n",
    "data_table=data_table[0].join(data_table[1:])\n",
    "data_table"
   ]
  },
  {
   "cell_type": "code",
   "execution_count": null,
   "id": "22ac19b4",
   "metadata": {},
   "outputs": [],
   "source": [
    "#Brooklyn\n",
    "sub_1_price_per_night=df.loc[df['neighbourhood_group'] == 'Brooklyn']\n",
    "price_per_night_sub1=sub_1[['price_per_night']]\n",
    "#Manhattan\n",
    "sub_2_price_per_night=df.loc[df['neighbourhood_group'] == 'Manhattan']\n",
    "price_per_night_sub2=sub_2[['price_per_night']]\n",
    "#Queens\n",
    "sub_3_price_per_night=df.loc[df['neighbourhood_group'] == 'Queens']\n",
    "price_per_night_sub3=sub_3[['price_per_night']]\n",
    "#Staten Island\n",
    "sub_4_price_per_night=df.loc[df['neighbourhood_group'] == 'Staten Island']\n",
    "price_per_night_sub4=sub_4[['price_per_night']]\n",
    "#Bronx\n",
    "sub_5_price_per_night=df.loc[df['neighbourhood_group'] == 'Bronx']\n",
    "price_per_night_sub5=sub_5[['price_per_night']]\n",
    "\n",
    "price_per_night_list_by_n=[price_per_night_sub1, price_per_night_sub2, price_per_night_sub3, price_per_night_sub4, price_per_night_sub5]"
   ]
  },
  {
   "cell_type": "code",
   "execution_count": null,
   "id": "aa2067f0",
   "metadata": {},
   "outputs": [],
   "source": [
    "data_table=[]\n",
    "name_list=['Brooklyn', 'Manhattan', 'Queens', 'Staten Island', 'Bronx']\n",
    "\n",
    "#Zbieranie statystyk dla cen określonych przez centyle\n",
    "\n",
    "for x in price_per_night_list_by_n:\n",
    "    i=x.describe(percentiles=[.25, .50, .75])\n",
    "    i=i.iloc[3:]\n",
    "    i.reset_index(inplace=True)\n",
    "    i.rename(columns={'index':'Stats'}, inplace=True)\n",
    "    data_table.append(i)\n",
    "    \n",
    "#\n",
    "#Zmiana nazw w celu łatwiejszego odczytania nazw okręgów \n",
    "   \n",
    "for i in range(5):\n",
    "    data_table[i].rename(columns={'price_per_night':name_list[i]}, inplace=True)  \n",
    "data_table=[df.set_index('Stats') for df in data_table]\n",
    "data_table=data_table[0].join(data_table[1:])\n",
    "data_table\n"
   ]
  },
  {
   "cell_type": "markdown",
   "id": "c0b9e79f",
   "metadata": {},
   "source": [
    "### Brooklyn"
   ]
  },
  {
   "cell_type": "code",
   "execution_count": null,
   "id": "0d340329",
   "metadata": {},
   "outputs": [],
   "source": [
    "sub=n_df_Brooklyn[n_df_Brooklyn.price_per_night <= 300]\n",
    "viol=sns.violinplot(data=sub, x='room_type', y='price_per_night').set(title=\"Rozkład ceny dla typu oferty dla okręgu Brooklyn\")"
   ]
  },
  {
   "cell_type": "code",
   "execution_count": null,
   "id": "f199dd38",
   "metadata": {},
   "outputs": [],
   "source": [
    "#room Type\n",
    "sub_1=n_df_Brooklyn.loc[n_df_Brooklyn['room_type'] == 'Private room']\n",
    "price_per_night_sub1=sub_1[['price_per_night']]\n",
    "\n",
    "sub_1=n_df_Brooklyn.loc[n_df_Brooklyn['room_type'] == 'Entire home/apt']\n",
    "price_per_night_sub1=sub_1[['price_per_night']]\n",
    "\n",
    "sub_1=n_df_Brooklyn.loc[n_df_Brooklyn['room_type'] == 'Shared room']\n",
    "price_per_night_sub1=sub_1[['price_per_night']]\n",
    "\n",
    "\n",
    "price_per_night_list_by_n=[price_per_night_sub1, price_per_night_sub2, price_per_night_sub3]"
   ]
  },
  {
   "cell_type": "code",
   "execution_count": null,
   "id": "c422c468",
   "metadata": {},
   "outputs": [],
   "source": [
    "data_table=[]\n",
    "name_list=['Private room', 'Entire home/apt', 'Shared room']\n",
    "\n",
    "for x in price_per_night_list_by_n:\n",
    "    i=x.describe(percentiles=[.25, .50, .75])\n",
    "    i=i.iloc[3:]\n",
    "    i.reset_index(inplace=True)\n",
    "    i.rename(columns={'index':'Brooklyn'}, inplace=True)\n",
    "    data_table.append(i)\n",
    "    \n",
    "\n",
    "#Zmiana nazw w celu łatwiejszego odczytania nazw okręgów \n",
    "   \n",
    "for i in range(3):\n",
    "    data_table[i].rename(columns={'price_per_night':name_list[i]}, inplace=True)  \n",
    "data_table=[df.set_index('Brooklyn') for df in data_table]\n",
    "data_table=data_table[0].join(data_table[1:])\n",
    "data_table"
   ]
  },
  {
   "cell_type": "code",
   "execution_count": null,
   "id": "5f7c0024",
   "metadata": {},
   "outputs": [],
   "source": [
    "sub=df[df.neighbourhood_group == \"Brooklyn\"]\n",
    "sub=sub[sub.price_per_night <= 500]\n",
    "plt.figure(figsize=(15,8))\n",
    "plt.margins(x=0)\n",
    "plt.title('Rozkład cen dla typów pokoi Brooklyn', fontsize=15)\n",
    "plt.xlabel('Cena za noc')\n",
    "plt.ylabel(\"Liczba ofert\")\n",
    "sns.histplot(data=sub, x=\"price_per_night\", hue=\"room_type\", kde=True, binwidth=20)"
   ]
  },
  {
   "attachments": {},
   "cell_type": "markdown",
   "id": "c867cdbc",
   "metadata": {},
   "source": [
    "W okręgu Brooklyn, w typach ofert dominują takie gdzie wynajęty jest cały apartament lub też pojedynczy pokój. Zauważyć można, że cena, powyżej której ilość ofert wynajmu całego apartamentu jest większa to około 43 dolary za noc"
   ]
  },
  {
   "cell_type": "markdown",
   "id": "ef0a8659",
   "metadata": {},
   "source": [
    "### Manhattan"
   ]
  },
  {
   "cell_type": "code",
   "execution_count": null,
   "id": "0014c08e",
   "metadata": {},
   "outputs": [],
   "source": [
    "sub=n_df_Manhattan[n_df_Manhattan.price_per_night <= 500]\n",
    "viol=sns.violinplot(data=sub, x='room_type', y='price_per_night').set(title=\"Rozkład ceny dla typu oferty dla okręgu Manhattan\")"
   ]
  },
  {
   "cell_type": "code",
   "execution_count": null,
   "id": "211c1fcc",
   "metadata": {},
   "outputs": [],
   "source": [
    "#room Type\n",
    "sub_1=n_df_Manhattan.loc[n_df_Manhattan['room_type'] == 'Private room']\n",
    "price_per_night_sub1=sub_1[['price_per_night']]\n",
    "\n",
    "sub_1=n_df_Manhattan.loc[n_df_Manhattan['room_type'] == 'Entire home/apt']\n",
    "price_per_night_sub1=sub_1[['price_per_night']]\n",
    "\n",
    "sub_1=n_df_Manhattan.loc[n_df_Manhattan['room_type'] == 'Shared room']\n",
    "price_per_night_sub1=sub_1[['price_per_night']]\n",
    "\n",
    "\n",
    "price_per_night_list_by_n=[price_per_night_sub1, price_per_night_sub2, price_per_night_sub3]"
   ]
  },
  {
   "cell_type": "code",
   "execution_count": null,
   "id": "1aea07f6",
   "metadata": {},
   "outputs": [],
   "source": [
    "data_table=[]\n",
    "name_list=['Private room', 'Entire home/apt', 'Shared room']\n",
    "\n",
    "for x in price_per_night_list_by_n:\n",
    "    i=x.describe(percentiles=[.25, .50, .75])\n",
    "    i=i.iloc[3:]\n",
    "    i.reset_index(inplace=True)\n",
    "    i.rename(columns={'index':'Manhattan'}, inplace=True)\n",
    "    data_table.append(i)\n",
    "    \n",
    "\n",
    "#Zmiana nazw w celu łatwiejszego odczytania nazw okręgów \n",
    "   \n",
    "for i in range(3):\n",
    "    data_table[i].rename(columns={'price_per_night':name_list[i]}, inplace=True)  \n",
    "data_table=[df.set_index('Manhattan') for df in data_table]\n",
    "data_table=data_table[0].join(data_table[1:])\n",
    "data_table"
   ]
  },
  {
   "cell_type": "code",
   "execution_count": null,
   "id": "c27bd83d",
   "metadata": {},
   "outputs": [],
   "source": [
    "sub=df[df.neighbourhood_group == \"Manhattan\"]\n",
    "sub=sub[sub.price_per_night <= 500]\n",
    "plt.figure(figsize=(15,8))\n",
    "plt.margins(x=0)\n",
    "plt.title('Rozkład cen dla typów pokoi Manhattan', fontsize=15)\n",
    "plt.xlabel('Cena za noc')\n",
    "plt.ylabel(\"Liczba ofert\")\n",
    "sns.histplot(data=sub, x=\"price_per_night\", hue=\"room_type\", kde=True, binwidth=20)"
   ]
  },
  {
   "attachments": {},
   "cell_type": "markdown",
   "id": "3028552e",
   "metadata": {},
   "source": [
    "W okręgu Manhattan  najwięcej ofert całym przedziale cenowym to całe apartamenty, może to wynikać z tego iż właściciele chcą lokować swoje oszczędności w nieruchomości w miejscu, które jest atrakcyjne dla zwiedzających przez cały rok, czego wynikiem są wysokie przychody bierne."
   ]
  },
  {
   "cell_type": "markdown",
   "id": "de1e131b",
   "metadata": {},
   "source": [
    "### Queens"
   ]
  },
  {
   "cell_type": "code",
   "execution_count": null,
   "id": "e7481232",
   "metadata": {},
   "outputs": [],
   "source": [
    "sub=n_df_Queens[n_df_Queens.price_per_night <= 300]\n",
    "viol=sns.violinplot(data=sub, x='room_type', y='price_per_night').set(title=\"Rozkład ceny dla typu oferty dla okręgu Queens\")"
   ]
  },
  {
   "cell_type": "code",
   "execution_count": null,
   "id": "1317524a",
   "metadata": {},
   "outputs": [],
   "source": [
    "#room Type\n",
    "sub_1=n_df_Queens.loc[n_df_Queens['room_type'] == 'Private room']\n",
    "price_per_night_sub1=sub_1[['price_per_night']]\n",
    "\n",
    "sub_1=n_df_Queens.loc[n_df_Queens['room_type'] == 'Entire home/apt']\n",
    "price_per_night_sub1=sub_1[['price_per_night']]\n",
    "\n",
    "sub_1=n_df_Queens.loc[n_df_Queens['room_type'] == 'Shared room']\n",
    "price_per_night_sub1=sub_1[['price_per_night']]\n",
    "\n",
    "\n",
    "price_per_night_list_by_n=[price_per_night_sub1, price_per_night_sub2, price_per_night_sub3]"
   ]
  },
  {
   "cell_type": "code",
   "execution_count": null,
   "id": "4b8c8bdf",
   "metadata": {},
   "outputs": [],
   "source": [
    "data_table=[]\n",
    "name_list=['Private room', 'Entire home/apt', 'Shared room']\n",
    "\n",
    "for x in price_per_night_list_by_n:\n",
    "    i=x.describe(percentiles=[.25, .50, .75])\n",
    "    i=i.iloc[3:]\n",
    "    i.reset_index(inplace=True)\n",
    "    i.rename(columns={'index':'Queens'}, inplace=True)\n",
    "    data_table.append(i)\n",
    "    \n",
    "\n",
    "#Zmiana nazw w celu łatwiejszego odczytania nazw okręgów \n",
    "   \n",
    "for i in range(3):\n",
    "    data_table[i].rename(columns={'price_per_night':name_list[i]}, inplace=True)  \n",
    "data_table=[df.set_index('Queens') for df in data_table]\n",
    "data_table=data_table[0].join(data_table[1:])\n",
    "data_table"
   ]
  },
  {
   "cell_type": "code",
   "execution_count": null,
   "id": "517d5552",
   "metadata": {},
   "outputs": [],
   "source": [
    "sub=df[df.neighbourhood_group == \"Queens\"]\n",
    "sub=sub[sub.price_per_night <= 500]\n",
    "plt.figure(figsize=(15,8))\n",
    "plt.margins(x=0)\n",
    "plt.title('Rozkład cen dla typów pokoi Queens', fontsize=15)\n",
    "plt.xlabel('Cena za noc')\n",
    "plt.ylabel(\"Liczba ofert\")\n",
    "sns.histplot(data=sub, x=\"price_per_night\", hue=\"room_type\", kde=True, binwidth=20)"
   ]
  },
  {
   "cell_type": "markdown",
   "id": "b27ba2a9",
   "metadata": {},
   "source": [
    "### Staten Island"
   ]
  },
  {
   "cell_type": "code",
   "execution_count": null,
   "id": "db15d7dd",
   "metadata": {},
   "outputs": [],
   "source": [
    "sub=n_df_Staten_Island[n_df_Staten_Island.price_per_night <= 250]\n",
    "viol=sns.violinplot(data=sub, x='room_type', y='price_per_night').set(title=\"Rozkład ceny dla typu oferty dla okręgu Staten Island\")"
   ]
  },
  {
   "cell_type": "code",
   "execution_count": null,
   "id": "186059d3",
   "metadata": {},
   "outputs": [],
   "source": [
    "#room Type\n",
    "sub_1=n_df_Staten_Island.loc[n_df_Staten_Island['room_type'] == 'Private room']\n",
    "price_per_night_sub1=sub_1[['price_per_night']]\n",
    "\n",
    "sub_1=n_df_Staten_Island.loc[n_df_Staten_Island['room_type'] == 'Entire home/apt']\n",
    "price_per_night_sub1=sub_1[['price_per_night']]\n",
    "\n",
    "sub_1=n_df_Staten_Island.loc[n_df_Staten_Island['room_type'] == 'Shared room']\n",
    "price_per_night_sub1=sub_1[['price_per_night']]\n",
    "\n",
    "\n",
    "price_per_night_list_by_n=[price_per_night_sub1, price_per_night_sub2, price_per_night_sub3]"
   ]
  },
  {
   "cell_type": "code",
   "execution_count": null,
   "id": "89b1ffd5",
   "metadata": {},
   "outputs": [],
   "source": [
    "data_table=[]\n",
    "name_list=['Private room', 'Entire home/apt', 'Shared room']\n",
    "\n",
    "for x in price_per_night_list_by_n:\n",
    "    i=x.describe(percentiles=[.25, .50, .75])\n",
    "    i=i.iloc[3:]\n",
    "    i.reset_index(inplace=True)\n",
    "    i.rename(columns={'index':'Staten Island'}, inplace=True)\n",
    "    data_table.append(i)\n",
    "    \n",
    "\n",
    "#Zmiana nazw w celu łatwiejszego odczytania nazw okręgów \n",
    "   \n",
    "for i in range(3):\n",
    "    data_table[i].rename(columns={'price_per_night':name_list[i]}, inplace=True)  \n",
    "data_table=[df.set_index('Staten Island') for df in data_table]\n",
    "data_table=data_table[0].join(data_table[1:])\n",
    "data_table"
   ]
  },
  {
   "cell_type": "code",
   "execution_count": null,
   "id": "92909062",
   "metadata": {},
   "outputs": [],
   "source": [
    "sub=df[df.neighbourhood_group == \"Staten Island\"]\n",
    "sub=sub[sub.price_per_night <= 500]\n",
    "plt.figure(figsize=(15,8))\n",
    "plt.margins(x=0)\n",
    "plt.title('Rozkład cen dla typów pokoi Staten Island', fontsize=15)\n",
    "plt.xlabel('Cena za noc')\n",
    "plt.ylabel(\"Liczba ofert\")\n",
    "sns.histplot(data=sub, x=\"price_per_night\", hue=\"room_type\", kde=True, binwidth=20)"
   ]
  },
  {
   "cell_type": "markdown",
   "id": "198d8fc9",
   "metadata": {},
   "source": [
    "### Bronx"
   ]
  },
  {
   "cell_type": "code",
   "execution_count": null,
   "id": "35400702",
   "metadata": {},
   "outputs": [],
   "source": [
    "sub=n_df_Bronx[n_df_Bronx.price_per_night <= 500]\n",
    "viol=sns.violinplot(data=sub, x='room_type', y='price_per_night').set(title=\"Rozkład ceny dla typu oferty dla okręgu Bronx\")"
   ]
  },
  {
   "cell_type": "code",
   "execution_count": null,
   "id": "453a7ffb",
   "metadata": {},
   "outputs": [],
   "source": [
    "#room Type\n",
    "sub_1=n_df_Bronx.loc[n_df_Bronx['room_type'] == 'Private room']\n",
    "price_per_night_sub1=sub_1[['price_per_night']]\n",
    "\n",
    "sub_1=n_df_Bronx.loc[n_df_Bronx['room_type'] == 'Entire home/apt']\n",
    "price_per_night_sub1=sub_1[['price_per_night']]\n",
    "\n",
    "sub_1=n_df_Bronx.loc[n_df_Bronx['room_type'] == 'Shared room']\n",
    "price_per_night_sub1=sub_1[['price_per_night']]\n",
    "\n",
    "\n",
    "price_per_night_list_by_n=[price_per_night_sub1, price_per_night_sub2, price_per_night_sub3]"
   ]
  },
  {
   "cell_type": "code",
   "execution_count": null,
   "id": "4542509a",
   "metadata": {},
   "outputs": [],
   "source": [
    "data_table=[]\n",
    "name_list=['Private room', 'Entire home/apt', 'Shared room']\n",
    "\n",
    "for x in price_per_night_list_by_n:\n",
    "    i=x.describe(percentiles=[.25, .50, .75])\n",
    "    i=i.iloc[3:]\n",
    "    i.reset_index(inplace=True)\n",
    "    i.rename(columns={'index':'Bronx'}, inplace=True)\n",
    "    data_table.append(i)\n",
    "    \n",
    "\n",
    "#Zmiana nazw w celu łatwiejszego odczytania nazw okręgów \n",
    "   \n",
    "for i in range(3):\n",
    "    data_table[i].rename(columns={'price_per_night':name_list[i]}, inplace=True)  \n",
    "data_table=[df.set_index('Bronx') for df in data_table]\n",
    "data_table=data_table[0].join(data_table[1:])\n",
    "data_table"
   ]
  },
  {
   "cell_type": "code",
   "execution_count": null,
   "id": "99a10354",
   "metadata": {},
   "outputs": [],
   "source": [
    "sub=df[df.neighbourhood_group == \"Bronx\"]\n",
    "sub=sub[sub.price_per_night <= 500]\n",
    "plt.figure(figsize=(15,8))\n",
    "plt.margins(x=0)\n",
    "plt.title('Rozkład cen dla typów pokoi Bronx', fontsize=15)\n",
    "plt.xlabel('Cena za noc')\n",
    "plt.ylabel(\"Liczba ofert\")\n",
    "sns.histplot(data=sub, x=\"price_per_night\", hue=\"room_type\", kde=True, binwidth=20)"
   ]
  },
  {
   "cell_type": "markdown",
   "id": "d3ea78cb",
   "metadata": {},
   "source": [
    "### Opisy"
   ]
  },
  {
   "cell_type": "markdown",
   "id": "3baa01f2",
   "metadata": {},
   "source": [
    "!!! Znaleźć najbiedniejsze oraz najdroższe dzielnice w danym okręgu/ Konrad"
   ]
  },
  {
   "cell_type": "markdown",
   "id": "e9e8ff1e",
   "metadata": {},
   "source": [
    "!!! Średnie ceny danego typu pokoju dla poszczególnej dzielnicy, popatrzeć na odstające ceny i przebadać/ Konrad"
   ]
  },
  {
   "cell_type": "markdown",
   "id": "a201584c",
   "metadata": {},
   "source": [
    "Widzimy, że niektóre ogłoszenia nie wymagają inwestycji pieniężnej w celu znalezienia noclegu (przynajmniej jest to prawdą na Brooklynie, Manhattanie oraz Bronxie). \n",
    "\n",
    "Kolejne progi procentowe powoli pozwalają nam na określenie gdzie mieszkanie będzie bardziej lub mniej pożądane. Już przy 25% widzimy znaczną różnicę, gdzie na Manhattan'ie zapłacimy ponad dwukrotność mieszkania na Bronx'ie! Nie ma tutaj mowy o standardzie danego pokoju, dlatego też ciężko ocenić czy ta różnica wynika tylko i wyłącznie z umiejscowienia geograficznego. Na ten fakt z pewnością wpływa również to, że ogłoszeń na okręgach Queens, Staten Island oraz Bronx jest blisko 3-krotnie mniej sumarycznie niż na samym Manhattan'ie.\n",
    "\n",
    "Kolejne progi tylko ugruntowują statystykę, że najdroższym miejscem do skorzystania z serwisu AirBnB jest Manhattan, następnie ze sporą różnicą uplasował się Brooklyn, później przy takich samych wynikach widzimy Queens oraz Staten Island, a Bronx pomimo swojego położenia stosunkowo blisko Manhattanu, okazał się najtańszy. \n",
    "\n",
    "Maksymalne ogłoszenie w każdym z okręgów uplasowało się znacznie wyżej niż pozostałe, ale ponownie widzimy tutaj znacznie niższą cenę na Bronx'ie, co tylko utwierdza wcześniej wysunięty wniosek."
   ]
  },
  {
   "cell_type": "markdown",
   "id": "a6f8f6cf",
   "metadata": {},
   "source": [
    "## Mapa Nowego Jorku"
   ]
  },
  {
   "attachments": {},
   "cell_type": "markdown",
   "id": "5e49bbfc",
   "metadata": {},
   "source": [
    "Na mapie Nowego Jorku zostały narzucone koordynaty wszystkich obiektów dostępnych na wynajem z naszej bazy danych. Przedstawione zostały w formie mapy cieplnej, która charakteryzuje się co raz to intensywniejszym kolorem w zależności od liczby mieszkań w tej okolicy. \n",
    "\n",
    "Wnioski z tej mapy pokrywają się w wizualny sposób z poprzednimi badaniami. Widzimy tutaj, że na Staten Island liczba mieszkań jest bardzo mała, a większość z nich jest umiejscowiona niedaleko mostu łączącego ją z Brooklyn'em. Podobną charakterystyką można opisać Bronx oraz Queens, chociaż w tych przypadkach odległość dzieląca mieszkania jest większa, ponieważ nie są tak scentralizowane jak na Staten Island. \n",
    "\n",
    "Drugą pod względem liczby dostępnych na wynajem mieszkań jest Brooklyn. Widzimy tutaj znacznie większe zagęszczenie w porównaniu do poprzednich okręgów. Liczba mieszkań rośnie odwrotnie proporcjonalnie do odległości od Manhattanu, gdzie pomimo mniejszej powierzchni od pozostałych hrabstw, widzimy czerwone punkty na mapie oraz nieprzerwaną falę pomarańczowego koloru na około central parku. Zgadza się to z założeniem, że manhattan jest najsławniejszym oraz najbogatszym okręgiem z badanych, dlatego też ludzie z pewnością są bardziej skłonni właśnie tam pozostać na noc."
   ]
  },
  {
   "cell_type": "code",
   "execution_count": null,
   "id": "b3cc6f5c",
   "metadata": {},
   "outputs": [],
   "source": [
    "map = folium.Map([40.7128,-74.0060],zoom_start=11)\n",
    "folium.plugins.HeatMap(df[['latitude','longitude']].dropna(),\n",
    "                       radius=8, gradient={0.1:'blue',0.4:'purple',0.6:'orange',1.0:'red'}).add_to(map)\n",
    "display(map)"
   ]
  },
  {
   "cell_type": "code",
   "execution_count": null,
   "id": "949709c2",
   "metadata": {},
   "outputs": [],
   "source": [
    "room_type = le.fit_transform(df[\"room_type\"])\n",
    "\n",
    "df[\"neighbourhood\"] = df[\"neighbourhood\"].map(dzielnica_mapping)\n",
    "df[\"neighbourhood_group\"] = df[\"neighbourhood_group\"].map(hrabstwo_mapping)"
   ]
  },
  {
   "cell_type": "code",
   "execution_count": null,
   "id": "f6e12545",
   "metadata": {},
   "outputs": [],
   "source": [
    "x = list(\n",
    "    zip(\n",
    "        df[\"longitude\"],\n",
    "        df[\"latitude\"],\n",
    "        df[\"neighbourhood\"],\n",
    "        df[\"neighbourhood_group\"],\n",
    "        df[\"minimum_nights\"],\n",
    "        room_type,\n",
    "    )\n",
    ")\n",
    "\n",
    "y = list(df[\"price_per_night\"])\n",
    "\n",
    "x_train, x_test, y_train, y_test = model_selection.train_test_split(x, y, test_size=0.1)\n",
    "\n",
    "model = KNeighborsClassifier(n_neighbors=31)\n",
    "model.fit(x_train, y_train)\n",
    "accuracy = model.score(x_test, y_test)\n",
    "print(f\"Dokładna predykcja ceny: {accuracy*100:.2f}%\")\n",
    "predicted = model.predict(x_test) # y testowy\n",
    "\n",
    "kolumny = \"longitude;latitude;neigbourhood;neighbourhood_group;minimum_nights;room_type\".split(\";\")\n",
    "\n",
    "dane_tren = pd.DataFrame(x_test,y_test, columns = kolumny)\n",
    "dane_predicted = pd.DataFrame(x_test,predicted, columns = kolumny)\n",
    "accurate = []\n",
    "not_accurate = []\n",
    "inaccuracy = 10\n",
    "for x in range(len(predicted)):\n",
    "    if predicted[x] in range(y_test[x] - inaccuracy, y_test[x] + inaccuracy + 1):\n",
    "        accurate.append(x_test[x])\n",
    "    else:\n",
    "        not_accurate.append(x_test[x])\n",
    "    # print(\"Data: \", x_test[x], \"Predicted: \", predicted[x],  \"Actual: \", y_test[x])\n",
    "print(f\"Precyzja wynosi około {len(accurate)*100/(len(accurate) + len(not_accurate)):.2f}% jeśli weźmiemy pod uwagę niepewność równą ${inaccuracy}.\")"
   ]
  }
 ],
 "metadata": {
  "kernelspec": {
   "display_name": "Python 3",
   "language": "python",
   "name": "python3"
  },
  "language_info": {
   "codemirror_mode": {
    "name": "ipython",
    "version": 3
   },
   "file_extension": ".py",
   "mimetype": "text/x-python",
   "name": "python",
   "nbconvert_exporter": "python",
   "pygments_lexer": "ipython3",
   "version": "3.10.9"
  },
  "vscode": {
   "interpreter": {
    "hash": "93ffa5708c2fe38432af419b747fae554f3a923c2a4f4deb025f98c1acc48e35"
   }
  }
 },
 "nbformat": 4,
 "nbformat_minor": 5
}
